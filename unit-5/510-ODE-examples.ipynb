{
 "cells": [
  {
   "cell_type": "markdown",
   "id": "451065d7-ea54-41bb-91d0-191dcb6ff834",
   "metadata": {},
   "source": [
    "## Symbolic algebra: sympy for physics\n",
    "\n",
    "## 1. Lennard-Jones Potential and Forces (optimisation)\n",
    "\n",
    "The potential energy of a particle in a field has the form:\n",
    "\n",
    "$$V(r) = 4\\epsilon \\left[ \\left(\\frac{\\sigma}{r}\\right)^{12} - \\left(\\frac{\\sigma}{r}\\right)^6 \\right]$$\n",
    "\n",
    "where $r$ is the distance between the particles, $\\epsilon$ is the depth of the potential well describing the strength of the attraction, and $\\sigma$ is the distance at which the potential energy is zero.\n",
    "\n",
    "(a) Create a python function to compute this potential $V(r)$ as a function of $r$ for fiducial values of $\\epsilon$ and $\\sigma$.\n",
    "\n",
    "Then, create an appropriate vector for $r$ and plot this potential $V(r)$ versus $r$.\n",
    "\n",
    "(b) Use sympy to compute the force: $F(r)=-\\frac{dV}{dr}$ experienced by a particle at a distance $r$.\n",
    "\n",
    "Then, lambdify your expression and plot the $F(r)$ versus $r$.\n",
    "\n",
    "(c) Find the maximum possible value of the attractive force, $F_{max}$, and the distance, $r_{max}$, at which the particle would be subjected to this force.\n",
    "\n",
    "#### Please provide your answers to these questions in a markdown cell:\n",
    "\n",
    "(d) Describe the behavior of the potential at short and long distances.\n",
    "\n",
    "At which \"equilibrium\" distance, $r_0$, does the force become zero?\n",
    "\n",
    "(e) Discuss the physical significance of the Lennard-Jones potential in real-world systems (e.g. the meaning of $\\sigma$ and $\\epsilon$).\n",
    "\n",
    "Provide 2 examples of systems where this potential is applicable.\n"
   ]
  },
  {
   "cell_type": "code",
   "execution_count": 1,
   "id": "8e1d9431-c86e-4c6f-9bd2-dcfcea612154",
   "metadata": {},
   "outputs": [],
   "source": [
    "# Import libraries\n",
    "import numpy as np\n",
    "import matplotlib.pyplot as plt\n",
    "import sympy as sp"
   ]
  },
  {
   "cell_type": "markdown",
   "id": "403c9e80-ae9a-44f2-8d97-ed8dab71ebb0",
   "metadata": {},
   "source": [
    "### (a) Create a python function to compute this potential $V(r)$ as a function of $r$ for fiducial values of $\\epsilon$ and $\\sigma$.\n",
    "$$V(r) = 4\\epsilon \\left[ \\left(\\frac{\\sigma}{r}\\right)^{12} - \\left(\\frac{\\sigma}{r}\\right)^6 \\right]$$"
   ]
  },
  {
   "cell_type": "code",
   "execution_count": 2,
   "id": "8e7757f3-a4c7-4260-8ad1-971cfe9cfaf9",
   "metadata": {},
   "outputs": [],
   "source": [
    "# Function for the potential\n",
    "def v_potential(r, eps, sig):\n",
    "    \"\"\"\n",
    "    This function calculates the LJ potential between any 2 particles.\n",
    "    Inputs: r   -> radial coordinate\n",
    "            eps -> Depth of V(r)\n",
    "            sig -> Distance at which V(r) minimum\n",
    "    Output: v_r -> V(r)\n",
    "    \"\"\"\n",
    "    # Define the potential\n",
    "    v_r = 4*eps*((sig/r)**12 - (sig/r)**6)\n",
    "\n",
    "    return v_r\n",
    "    "
   ]
  },
  {
   "cell_type": "code",
   "execution_count": 4,
   "id": "1be3cf6d-79d5-418f-8910-52c8bf5789a1",
   "metadata": {},
   "outputs": [],
   "source": [
    "# Test our function\n",
    "#v_potential(1., 0.1, 0.2)"
   ]
  },
  {
   "cell_type": "markdown",
   "id": "797b5e6e-c400-4c2f-9384-e19583bf441c",
   "metadata": {},
   "source": [
    "### Then, create an appropriate vector for $r$ and plot this potential $V(r)$ versus $r$."
   ]
  },
  {
   "cell_type": "code",
   "execution_count": 30,
   "id": "1e5b9299-f3a2-4e3e-8a34-4c10ded9c23f",
   "metadata": {},
   "outputs": [],
   "source": [
    "# Fix the constants\n",
    "eps_1 = 2.\n",
    "sig_1 = 1.\n",
    "\n",
    "# Generate vector for r\n",
    "r = np.linspace(1.e-4, 4*sig_1, 1000)\n",
    "\n",
    "# Evaluate our function\n",
    "v_r = v_potential(r, eps_1, sig_1)"
   ]
  },
  {
   "cell_type": "code",
   "execution_count": 31,
   "id": "1e2dd95e-715a-41aa-aac1-6ba53eb4bf2e",
   "metadata": {},
   "outputs": [
    {
     "name": "stdout",
     "output_type": "stream",
     "text": [
      "-1.9999072482437703 8e+48\n"
     ]
    }
   ],
   "source": [
    "print(np.min(v_r), np.max(v_r))"
   ]
  },
  {
   "cell_type": "code",
   "execution_count": 33,
   "id": "a18937d8-7c1a-4103-a7b8-2fc0d36e98de",
   "metadata": {},
   "outputs": [
    {
     "data": {
      "image/png": "[encoded data removed]",
      "text/plain": [
       "<Figure size 1100x300 with 1 Axes>"
      ]
     },
     "metadata": {},
     "output_type": "display_data"
    }
   ],
   "source": [
    "# Figure environment\n",
    "plt.figure(figsize=(11, 3))\n",
    "\n",
    "plt.plot(r, v_r, color = \"magenta\", linestyle = \"-\", label = \"LJ potential\")\n",
    "\n",
    "plt.legend(loc = 1)\n",
    "\n",
    "plt.xlim(0, 4.*sig_1)\n",
    "plt.ylim(-1.5*eps_1, + 1.5*eps_1)\n",
    "\n",
    "plt.show()"
   ]
  },
  {
   "cell_type": "markdown",
   "id": "756e527c-97d9-41ee-a434-eeaeb3c58652",
   "metadata": {},
   "source": [
    "(b) Use sympy to compute the force: $F(r)=-\\frac{dV}{dr}$ experienced by a particle at a distance $r$."
   ]
  },
  {
   "cell_type": "code",
   "execution_count": null,
   "id": "98e8f2f7-91f1-45b3-bdc1-c968a591007c",
   "metadata": {},
   "outputs": [],
   "source": []
  },
  {
   "cell_type": "code",
   "execution_count": null,
   "id": "39d81290-d7cf-4d0d-bb0e-ae09a0a33b10",
   "metadata": {},
   "outputs": [],
   "source": []
  },
  {
   "cell_type": "code",
   "execution_count": null,
   "id": "aa3f8f6a-1239-47fb-b418-fe8adfe06213",
   "metadata": {},
   "outputs": [],
   "source": []
  },
  {
   "cell_type": "code",
   "execution_count": null,
   "id": "45d7c9ed-33ac-4bbe-9419-0c456838f8b0",
   "metadata": {},
   "outputs": [],
   "source": []
  },
  {
   "cell_type": "markdown",
   "id": "98486734-5495-49fe-add0-01aa867627c1",
   "metadata": {},
   "source": [
    "## 2. Population dynamics (solutions to ODEs)\n",
    "\n",
    "The **Verhulst-Pearl model** is used to study animal population dynamics. This model is also called **logistic growth model** and assumes that $P(t)$ satisfies the following ODE:\n",
    "\n",
    "\n",
    "$$\\frac{dP}{dt}=\\alpha\\,P\\left(1-\\frac{P}{\\beta}\\right)$$\n",
    "\n",
    "\n",
    "where $\\alpha$ is the growth rate and $\\beta$ is the limiting size for the population (also called the environment carrying capacity).\n",
    "\n",
    "(a) Use sympy to find the general analytical solution to this ODE.\n",
    "\n",
    "\n",
    "(b) Imagine we use this equation to study the population dynamics of a bird species re-introduced into nature, knowing that the test environment can only host $20$ individuals. We liberate $10$ individuals of this species in the wild, and we know that the growth rate is $0.2$ individuals per month. Rewrite and recompute both the ODE and its solution for this set of conditions.\n",
    "\n",
    "\n",
    "(c) Lambify your expression, make a plot of the analytical solution and label it appropriately.\n",
    "\n",
    "\n",
    "#### Please provide your answers to these questions in a markdown cell:\n",
    "\n",
    "(d) Briefly comment on the behavior of the population size over time, and the eventual population size as $t \\to \\infty$.\n",
    "\n",
    "What are the biological interpretations of the parameters $\\alpha$ and $\\beta$ ? \n",
    "\n",
    "(e) Why does the population growth slow down as $P(t)$ approaches $\\beta$ ?\n",
    "\n",
    "How might the model change if external factors (e.g., predators, diseases, or resource scarcity) are introduced?"
   ]
  },
  {
   "cell_type": "code",
   "execution_count": null,
   "id": "1d32467c-a825-444c-810d-513658708225",
   "metadata": {},
   "outputs": [],
   "source": []
  }
 ],
 "metadata": {
  "kernelspec": {
   "display_name": "Python 3 (ipykernel)",
   "language": "python",
   "name": "python3"
  },
  "language_info": {
   "codemirror_mode": {
    "name": "ipython",
    "version": 3
   },
   "file_extension": ".py",
   "mimetype": "text/x-python",
   "name": "python",
   "nbconvert_exporter": "python",
   "pygments_lexer": "ipython3",
   "version": "3.9.15"
  }
 },
 "nbformat": 4,
 "nbformat_minor": 5
}
