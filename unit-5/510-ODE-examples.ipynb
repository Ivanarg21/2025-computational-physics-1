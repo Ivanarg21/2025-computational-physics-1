{
 "cells": [
  {
   "cell_type": "markdown",
   "id": "451065d7-ea54-41bb-91d0-191dcb6ff834",
   "metadata": {},
   "source": [
    "## Symbolic algebra: sympy for physics\n",
    "\n",
    "## 1. Lennard-Jones Potential and Forces (optimisation)\n",
    "\n",
    "The potential energy of a particle in a field has the form:\n",
    "\n",
    "$$V(r) = 4\\epsilon \\left[ \\left(\\frac{\\sigma}{r}\\right)^{12} - \\left(\\frac{\\sigma}{r}\\right)^6 \\right]$$\n",
    "\n",
    "where $r$ is the distance between the particles, $\\epsilon$ is the depth of the potential well describing the strength of the attraction, and $\\sigma$ is the distance at which the potential energy is zero.\n",
    "\n",
    "(a) Create a python function to compute this potential $V(r)$ as a function of $r$ for fiducial values of $\\epsilon$ and $\\sigma$.\n",
    "\n",
    "Then, create an appropriate vector for $r$ and plot this potential $V(r)$ versus $r$.\n",
    "\n",
    "(b) Use sympy to compute the force: $F(r)=-\\frac{dV}{dr}$ experienced by a particle at a distance $r$.\n",
    "\n",
    "Then, lambdify your expression and plot the $F(r)$ versus $r$.\n",
    "\n",
    "(c) Find the maximum possible value of the attractive force, $F_{max}$, and the distance, $r_{max}$, at which the particle would be subjected to this force.\n",
    "\n",
    "#### Please provide your answers to these questions in a markdown cell:\n",
    "\n",
    "(d) Describe the behavior of the potential at short and long distances.\n",
    "\n",
    "At which \"equilibrium\" distance, $r_0$, does the force become zero?\n",
    "\n",
    "(e) Discuss the physical significance of the Lennard-Jones potential in real-world systems (e.g. the meaning of $\\sigma$ and $\\epsilon$).\n",
    "\n",
    "Provide 2 examples of systems where this potential is applicable.\n"
   ]
  },
  {
   "cell_type": "code",
   "execution_count": 15,
   "id": "8e1d9431-c86e-4c6f-9bd2-dcfcea612154",
   "metadata": {},
   "outputs": [],
   "source": [
    "# Import libraries\n",
    "import numpy as np\n",
    "import matplotlib.pyplot as plt\n",
    "import sympy as sp"
   ]
  },
  {
   "cell_type": "markdown",
   "id": "403c9e80-ae9a-44f2-8d97-ed8dab71ebb0",
   "metadata": {},
   "source": [
    "### (a) Create a python function to compute this potential $V(r)$ as a function of $r$ for fiducial values of $\\epsilon$ and $\\sigma$.\n",
    "$$V(r) = 4\\epsilon \\left[ \\left(\\frac{\\sigma}{r}\\right)^{12} - \\left(\\frac{\\sigma}{r}\\right)^6 \\right]$$"
   ]
  },
  {
   "cell_type": "code",
   "execution_count": 2,
   "id": "8e7757f3-a4c7-4260-8ad1-971cfe9cfaf9",
   "metadata": {},
   "outputs": [],
   "source": [
    "# Function for the potential\n",
    "def v_potential(r, eps, sig):\n",
    "    \"\"\"\n",
    "    This function calculates the LJ potential between any 2 particles.\n",
    "    Inputs: r   -> radial coordinate\n",
    "            eps -> Depth of V(r)\n",
    "            sig -> Distance at which V(r) minimum\n",
    "    Output: v_r -> V(r)\n",
    "    \"\"\"\n",
    "    # Define the potential\n",
    "    v_r = 4*eps*((sig/r)**12 - (sig/r)**6)\n",
    "\n",
    "    return v_r\n",
    "    "
   ]
  },
  {
   "cell_type": "code",
   "execution_count": 3,
   "id": "1be3cf6d-79d5-418f-8910-52c8bf5789a1",
   "metadata": {},
   "outputs": [],
   "source": [
    "# Test our function\n",
    "#v_potential(1., 0.1, 0.2)"
   ]
  },
  {
   "cell_type": "markdown",
   "id": "797b5e6e-c400-4c2f-9384-e19583bf441c",
   "metadata": {},
   "source": [
    "### Then, create an appropriate vector for $r$ and plot this potential $V(r)$ versus $r$."
   ]
  },
  {
   "cell_type": "code",
   "execution_count": 56,
   "id": "1e5b9299-f3a2-4e3e-8a34-4c10ded9c23f",
   "metadata": {},
   "outputs": [],
   "source": [
    "# Fix the constants\n",
    "eps_1 = 2.\n",
    "sig_1 = 1.\n",
    "\n",
    "# Generate vector for r\n",
    "r_a = np.linspace(0.9, 4*sig_1, 1000)\n",
    "\n",
    "# Evaluate our function\n",
    "v_r = v_potential(r_a, eps_1, sig_1)"
   ]
  },
  {
   "cell_type": "code",
   "execution_count": 57,
   "id": "1e2dd95e-715a-41aa-aac1-6ba53eb4bf2e",
   "metadata": {},
   "outputs": [],
   "source": [
    "#print(np.min(v_r), np.max(v_r))"
   ]
  },
  {
   "cell_type": "code",
   "execution_count": 58,
   "id": "a18937d8-7c1a-4103-a7b8-2fc0d36e98de",
   "metadata": {},
   "outputs": [
    {
     "data": {
      "image/png": "[encoded data removed]",
      "text/plain": [
       "<Figure size 1100x300 with 1 Axes>"
      ]
     },
     "metadata": {},
     "output_type": "display_data"
    }
   ],
   "source": [
    "# Figure environment\n",
    "plt.figure(figsize=(11, 3))\n",
    "\n",
    "plt.plot(r_a, v_r, color = \"magenta\", linestyle = \"-\", label = \"LJ potential\")\n",
    "\n",
    "plt.legend(loc = 1)\n",
    "\n",
    "plt.xlim(0.9, 4.*sig_1)\n",
    "plt.ylim(-1.5*eps_1, + 1.5*eps_1)\n",
    "\n",
    "plt.xlabel(r\"$r$\")\n",
    "plt.ylabel(r\"$V(r)$\")\n",
    "\n",
    "plt.show()"
   ]
  },
  {
   "cell_type": "markdown",
   "id": "756e527c-97d9-41ee-a434-eeaeb3c58652",
   "metadata": {},
   "source": [
    "(b) Use sympy to compute the force: $F(r)=-\\frac{dV}{dr}$ experienced by a particle at a distance $r$."
   ]
  },
  {
   "cell_type": "code",
   "execution_count": 59,
   "id": "98e8f2f7-91f1-45b3-bdc1-c968a591007c",
   "metadata": {},
   "outputs": [
    {
     "name": "stdout",
     "output_type": "stream",
     "text": [
      "<class 'sympy.core.add.Add'>\n"
     ]
    },
    {
     "data": {
      "text/plain": [
       "'The force is: '"
      ]
     },
     "metadata": {},
     "output_type": "display_data"
    },
    {
     "data": {
      "text/latex": [
       "$\\displaystyle - \\frac{48.0}{r^{7}} + \\frac{96.0}{r^{13}}$"
      ],
      "text/plain": [
       "-48.0/r**7 + 96.0/r**13"
      ]
     },
     "metadata": {},
     "output_type": "display_data"
    }
   ],
   "source": [
    "# Define symbols\n",
    "r = sp.symbols(\"r\")\n",
    "v = v_potential(r, eps_1, sig_1)\n",
    "#print(type(v))\n",
    "\n",
    "# Force\n",
    "f_r = -sp.diff(v, r)\n",
    "\n",
    "print(type(f_r))\n",
    "display(\"The force is: \", f_r)"
   ]
  },
  {
   "cell_type": "markdown",
   "id": "3afb3a76-4b8c-4fb4-b665-443d0261f90d",
   "metadata": {},
   "source": [
    "### Then, lambdify your expression and plot the $F(r)$ versus $r$."
   ]
  },
  {
   "cell_type": "code",
   "execution_count": 60,
   "id": "aa3f8f6a-1239-47fb-b418-fe8adfe06213",
   "metadata": {},
   "outputs": [
    {
     "name": "stdout",
     "output_type": "stream",
     "text": [
      "<class 'function'>\n",
      "48.0\n"
     ]
    }
   ],
   "source": [
    "# Lambdifying the expression\n",
    "\n",
    "f_np = sp.lambdify(r, f_r, \"numpy\")\n",
    "\n",
    "print(type(f_np))\n",
    "\n",
    "print(f_np(1.))"
   ]
  },
  {
   "cell_type": "code",
   "execution_count": 61,
   "id": "45d7c9ed-33ac-4bbe-9419-0c456838f8b0",
   "metadata": {},
   "outputs": [],
   "source": [
    "# Evaluate our numpy function using our r vector\n",
    "f_a = f_np(r_a)"
   ]
  },
  {
   "cell_type": "code",
   "execution_count": 62,
   "id": "0cf0aa2a-c083-4fad-923f-04a998c70565",
   "metadata": {},
   "outputs": [
    {
     "data": {
      "image/png": "[encoded data removed]",
      "text/plain": [
       "<Figure size 1100x300 with 1 Axes>"
      ]
     },
     "metadata": {},
     "output_type": "display_data"
    }
   ],
   "source": [
    "# Plotting\n",
    "\n",
    "plt.figure(figsize=(11, 3))\n",
    "\n",
    "plt.plot(r_a, f_a, color = \"blue\", linestyle = \"-\", label = r\"$F(r)$\")\n",
    "\n",
    "plt.legend(loc = 1)\n",
    "\n",
    "plt.xlim(0, 4.*sig_1)\n",
    "plt.ylim(-3*eps_1, + 3*eps_1)\n",
    "\n",
    "plt.xlabel(r\"$r$\")\n",
    "plt.ylabel(r\"$F(r)$\")\n",
    "\n",
    "plt.show()"
   ]
  },
  {
   "cell_type": "code",
   "execution_count": 63,
   "id": "20abbbfa-59a9-4a41-a9ea-3769a26fb66c",
   "metadata": {},
   "outputs": [
    {
     "data": {
      "image/png": "[encoded data removed]",
      "text/plain": [
       "<Figure size 1100x300 with 1 Axes>"
      ]
     },
     "metadata": {},
     "output_type": "display_data"
    }
   ],
   "source": [
    "# Figure environment\n",
    "plt.figure(figsize=(11, 3))\n",
    "\n",
    "plt.plot(r_a, v_r, color = \"magenta\", linestyle = \"-\", label = \"V(r)\")\n",
    "plt.plot(r_a, f_a, color = \"blue\", linestyle = \"-\", label = r\"$F(r)$\")\n",
    "plt.legend(loc = 1)\n",
    "\n",
    "plt.xlim(0, 4.*sig_1)\n",
    "plt.ylim(-3*eps_1, + 3*eps_1)\n",
    "\n",
    "plt.xlabel(r\"$r$\")\n",
    "plt.ylabel(r\"$V(r), F(r)$\")\n",
    "\n",
    "plt.show()"
   ]
  },
  {
   "cell_type": "markdown",
   "id": "1d07f2a1-4985-4d43-9d86-ebfc541b8fa1",
   "metadata": {},
   "source": [
    "### (c) Find the maximum possible value of the attractive force, $F_{max}$, and the distance, $r_{max}$, at which the particle would be subjected to this force.\n",
    "\n",
    "\n",
    "We wish to find the distance $r$ at which $\\dfrac{dF(r)}{dr} = 0$."
   ]
  },
  {
   "cell_type": "code",
   "execution_count": 64,
   "id": "e39feed5-b6a3-4687-a491-201626748946",
   "metadata": {},
   "outputs": [
    {
     "data": {
      "text/latex": [
       "$\\displaystyle \\frac{336.0}{r^{8}} - \\frac{1248.0}{r^{14}} = 0$"
      ],
      "text/plain": [
       "Eq(336.0/r**8 - 1248.0/r**14, 0)"
      ]
     },
     "metadata": {},
     "output_type": "display_data"
    }
   ],
   "source": [
    "# Use sympy to solve the equation\n",
    "\n",
    "eq_max = sp.Eq(sp.diff(f_r, r), 0)\n",
    "\n",
    "display(eq_max)"
   ]
  },
  {
   "cell_type": "code",
   "execution_count": 65,
   "id": "c42578fe-0ae9-4544-be92-fc819d18494b",
   "metadata": {},
   "outputs": [
    {
     "name": "stdout",
     "output_type": "stream",
     "text": [
      "Candidate r_max values are:  [-1.24445506025981, 1.24445506025981, -0.622227530129904 - 1.07772969605309*I, -0.622227530129904 + 1.07772969605309*I, 0.622227530129904 - 1.07772969605309*I, 0.622227530129904 + 1.07772969605309*I]\n",
      "\n",
      "\n",
      "r_max =  1.24445506025981\n"
     ]
    }
   ],
   "source": [
    "# Solve the equation\n",
    "\n",
    "r_max = sp.solve(eq_max, r)\n",
    "\n",
    "print(\"Candidate r_max values are: \", r_max)\n",
    "print(\"\\n\")\n",
    "print(\"r_max = \", r_max[1])"
   ]
  },
  {
   "cell_type": "code",
   "execution_count": 66,
   "id": "54ff5631-4faf-41af-aaa2-46b13405781c",
   "metadata": {},
   "outputs": [
    {
     "name": "stdout",
     "output_type": "stream",
     "text": [
      "F_rmax =  -4.79285852248847\n"
     ]
    }
   ],
   "source": [
    "# Evaluate the force at r_max \n",
    "f_max = f_np(r_max[1])\n",
    "\n",
    "print(\"F_rmax = \", f_max)"
   ]
  },
  {
   "cell_type": "code",
   "execution_count": 67,
   "id": "739f079f-f4dc-45cc-89df-282e135ca941",
   "metadata": {},
   "outputs": [
    {
     "data": {
      "image/png": "[encoded data removed]",
      "text/plain": [
       "<Figure size 1100x300 with 1 Axes>"
      ]
     },
     "metadata": {},
     "output_type": "display_data"
    }
   ],
   "source": [
    "# Figure environment\n",
    "plt.figure(figsize=(11, 3))\n",
    "\n",
    "plt.plot(r_a, v_r, color = \"magenta\", linestyle = \"-\", label = \"V(r)\")\n",
    "plt.plot(r_a, f_a, color = \"blue\", linestyle = \"-\", label = r\"$F(r)$\")\n",
    "\n",
    "plt.plot(r_max[1], f_max, marker = \"o\", linestyle = \" \", label = r\"$F_{max}$\", color = \"red\")\n",
    "\n",
    "plt.legend(loc = 1)\n",
    "\n",
    "plt.xlim(0, 4.*sig_1)\n",
    "plt.ylim(-3*eps_1, + 3*eps_1)\n",
    "\n",
    "plt.xlabel(r\"$r$\")\n",
    "plt.ylabel(r\"$V(r), F(r)$\")\n",
    "\n",
    "plt.show()"
   ]
  },
  {
   "cell_type": "markdown",
   "id": "94683fd8-f261-4697-afb6-0a0519aa0f0f",
   "metadata": {},
   "source": [
    "### VTK output:\n",
    "\n",
    "We want to save: r_a, v_r in a VTK-like file.\n"
   ]
  },
  {
   "cell_type": "code",
   "execution_count": 68,
   "id": "3f4660ec-9132-4e3b-a1ae-1d23ba4d6318",
   "metadata": {},
   "outputs": [],
   "source": [
    "# VTK formatting\n",
    "\n",
    "from pyevtk.hl import gridToVTK, pointsToVTK"
   ]
  },
  {
   "cell_type": "code",
   "execution_count": 69,
   "id": "34e67ffe-a83c-4200-a3f9-7f99816094dc",
   "metadata": {},
   "outputs": [
    {
     "data": {
      "text/plain": [
       "'/Users/wbandabarragan/Library/CloudStorage/Dropbox/GitHub_Repos/computational-physics-1/unit-5/v_potential2.vtr'"
      ]
     },
     "execution_count": 69,
     "metadata": {},
     "output_type": "execute_result"
    }
   ],
   "source": [
    "y = np.array([0.])\n",
    "z = np.array([0.])\n",
    "\n",
    "gridToVTK(\"./v_potential2\", r_a, y, z, cellData={\"vr\": v_r, \"ra\": r_a})"
   ]
  },
  {
   "cell_type": "markdown",
   "id": "98486734-5495-49fe-add0-01aa867627c1",
   "metadata": {},
   "source": [
    "## 2. Population dynamics (solutions to ODEs)\n",
    "\n",
    "The **Verhulst-Pearl model** is used to study animal population dynamics. This model is also called **logistic growth model** and assumes that $P(t)$ satisfies the following ODE:\n",
    "\n",
    "\n",
    "$$\\frac{dP}{dt}=\\alpha\\,P\\left(1-\\frac{P}{\\beta}\\right)$$\n",
    "\n",
    "\n",
    "where $\\alpha$ is the growth rate and $\\beta$ is the limiting size for the population (also called the environment carrying capacity).\n",
    "\n",
    "(a) Use sympy to find the general analytical solution to this ODE.\n",
    "\n",
    "\n",
    "(b) Imagine we use this equation to study the population dynamics of a bird species re-introduced into nature, knowing that the test environment can only host $20$ individuals. We liberate $10$ individuals of this species in the wild, and we know that the growth rate is $0.2$ individuals per month. Rewrite and recompute both the ODE and its solution for this set of conditions.\n",
    "\n",
    "\n",
    "(c) Lambify your expression, make a plot of the analytical solution and label it appropriately.\n",
    "\n",
    "\n",
    "#### Please provide your answers to these questions in a markdown cell:\n",
    "\n",
    "(d) Briefly comment on the behavior of the population size over time, and the eventual population size as $t \\to \\infty$.\n",
    "\n",
    "What are the biological interpretations of the parameters $\\alpha$ and $\\beta$ ? \n",
    "\n",
    "(e) Why does the population growth slow down as $P(t)$ approaches $\\beta$ ?\n",
    "\n",
    "How might the model change if external factors (e.g., predators, diseases, or resource scarcity) are introduced?"
   ]
  },
  {
   "cell_type": "code",
   "execution_count": null,
   "id": "1d32467c-a825-444c-810d-513658708225",
   "metadata": {},
   "outputs": [],
   "source": []
  },
  {
   "cell_type": "code",
   "execution_count": null,
   "id": "6d0c9e72-b527-44f9-9ed0-45ff5d2e3ea0",
   "metadata": {},
   "outputs": [],
   "source": []
  },
  {
   "cell_type": "code",
   "execution_count": null,
   "id": "3c2c635c-d4e9-4bf5-ab37-acc70815931c",
   "metadata": {},
   "outputs": [],
   "source": []
  },
  {
   "cell_type": "code",
   "execution_count": null,
   "id": "534c3009-00f9-424b-be69-52c5fd25a0dc",
   "metadata": {},
   "outputs": [],
   "source": []
  },
  {
   "cell_type": "code",
   "execution_count": null,
   "id": "156b7077-1a18-41d3-b5c9-7384f1bc788f",
   "metadata": {},
   "outputs": [],
   "source": []
  },
  {
   "cell_type": "code",
   "execution_count": null,
   "id": "6a31b3f2-13dd-4fa5-97e5-1583d4a5e72d",
   "metadata": {},
   "outputs": [],
   "source": []
  }
 ],
 "metadata": {
  "kernelspec": {
   "display_name": "Python 3 (ipykernel)",
   "language": "python",
   "name": "python3"
  },
  "language_info": {
   "codemirror_mode": {
    "name": "ipython",
    "version": 3
   },
   "file_extension": ".py",
   "mimetype": "text/x-python",
   "name": "python",
   "nbconvert_exporter": "python",
   "pygments_lexer": "ipython3",
   "version": "3.9.15"
  }
 },
 "nbformat": 4,
 "nbformat_minor": 5
}
