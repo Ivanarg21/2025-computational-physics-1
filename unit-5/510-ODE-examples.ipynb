{
 "cells": [
  {
   "cell_type": "markdown",
   "id": "451065d7-ea54-41bb-91d0-191dcb6ff834",
   "metadata": {},
   "source": [
    "## Symbolic algebra: sympy for physics\n",
    "\n",
    "## 1. Lennard-Jones Potential and Forces (optimisation)\n",
    "\n",
    "The potential energy of a particle in a field has the form:\n",
    "\n",
    "$$V(r) = 4\\epsilon \\left[ \\left(\\frac{\\sigma}{r}\\right)^{12} - \\left(\\frac{\\sigma}{r}\\right)^6 \\right]$$\n",
    "\n",
    "where $r$ is the distance between the particles, $\\epsilon$ is the depth of the potential well describing the strength of the attraction, and $\\sigma$ is the distance at which the potential energy is zero.\n",
    "\n",
    "(a) Create a python function to compute this potential $V(r)$ as a function of $r$ for fiducial values of $\\epsilon$ and $\\sigma$.\n",
    "\n",
    "Then, create an appropriate vector for $r$ and plot this potential $V(r)$ versus $r$.\n",
    "\n",
    "(b) Use sympy to compute the force: $F(r)=-\\frac{dV}{dr}$ experienced by a particle at a distance $r$.\n",
    "\n",
    "Then, lambdify your expression and plot the $F(r)$ versus $r$.\n",
    "\n",
    "(c) Find the maximum possible value of the attractive force, $F_{max}$, and the distance, $r_{max}$, at which the particle would be subjected to this force.\n",
    "\n",
    "#### Please provide your answers to these questions in a markdown cell:\n",
    "\n",
    "(d) Describe the behavior of the potential at short and long distances.\n",
    "\n",
    "At which \"equilibrium\" distance, $r_0$, does the force become zero?\n",
    "\n",
    "(e) Discuss the physical significance of the Lennard-Jones potential in real-world systems (e.g. the meaning of $\\sigma$ and $\\epsilon$).\n",
    "\n",
    "Provide 2 examples of systems where this potential is applicable.\n"
   ]
  },
  {
   "cell_type": "markdown",
   "id": "98486734-5495-49fe-add0-01aa867627c1",
   "metadata": {},
   "source": [
    "## 2. Population dynamics (solutions to ODEs)\n",
    "\n",
    "The **Verhulst-Pearl model** is used to study animal population dynamics. This model is also called **logistic growth model** and assumes that $P(t)$ satisfies the following ODE:\n",
    "\n",
    "\n",
    "$$\\frac{dP}{dt}=\\alpha\\,P\\left(1-\\frac{P}{\\beta}\\right)$$\n",
    "\n",
    "\n",
    "where $\\alpha$ is the growth rate and $\\beta$ is the limiting size for the population (also called the environment carrying capacity).\n",
    "\n",
    "(a) Use sympy to find the general analytical solution to this ODE.\n",
    "\n",
    "\n",
    "(b) Imagine we use this equation to study the population dynamics of a bird species re-introduced into nature, knowing that the test environment can only host $20$ individuals. We liberate $10$ individuals of this species in the wild, and we know that the growth rate is $0.2$ individuals per month. Rewrite and recompute both the ODE and its solution for this set of conditions.\n",
    "\n",
    "\n",
    "(c) Lambify your expression, make a plot of the analytical solution and label it appropriately.\n",
    "\n",
    "\n",
    "#### Please provide your answers to these questions in a markdown cell:\n",
    "\n",
    "(d) Briefly comment on the behavior of the population size over time, and the eventual population size as $t \\to \\infty$.\n",
    "\n",
    "What are the biological interpretations of the parameters $\\alpha$ and $\\beta$ ? \n",
    "\n",
    "(e) Why does the population growth slow down as $P(t)$ approaches $\\beta$ ?\n",
    "\n",
    "How might the model change if external factors (e.g., predators, diseases, or resource scarcity) are introduced?"
   ]
  }
 ],
 "metadata": {
  "kernelspec": {
   "display_name": "Python 3 (ipykernel)",
   "language": "python",
   "name": "python3"
  },
  "language_info": {
   "codemirror_mode": {
    "name": "ipython",
    "version": 3
   },
   "file_extension": ".py",
   "mimetype": "text/x-python",
   "name": "python",
   "nbconvert_exporter": "python",
   "pygments_lexer": "ipython3",
   "version": "3.9.15"
  }
 },
 "nbformat": 4,
 "nbformat_minor": 5
}
