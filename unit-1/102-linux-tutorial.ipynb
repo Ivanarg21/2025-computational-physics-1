{
  "nbformat": 4,
  "nbformat_minor": 0,
  "metadata": {
    "colab": {
      "provenance": [],
      "authorship_tag": "ABX9TyOxXHzH4Iji+8s6OwJZu1Cu",
      "include_colab_link": true
    },
    "kernelspec": {
      "name": "python3",
      "display_name": "Python 3"
    },
    "language_info": {
      "name": "python"
    }
  },
  "cells": [
    {
      "cell_type": "markdown",
      "metadata": {
        "id": "view-in-github",
        "colab_type": "text"
      },
      "source": [
        "<a href=\"https://colab.research.google.com/github/wbandabarragan/computational-physics-1/blob/main/unit-1/102-linux-tutorial.ipynb\" target=\"_parent\"><img src=\"https://colab.research.google.com/assets/colab-badge.svg\" alt=\"Open In Colab\"/></a>"
      ]
    },
    {
      "cell_type": "markdown",
      "source": [
        "# Lecture 102: Linux OS and the need for open source software"
      ],
      "metadata": {
        "id": "N5zjs7T1v5JM"
      }
    },
    {
      "cell_type": "markdown",
      "source": [
        "## About Linux OS\n",
        "\n",
        "- It is an operating system based on Unix, which was developed by Ken Thompson and Dennis Ritchie (at AT&T Bell Laboratories) during the 60’s/70’s.\n",
        "\n",
        "- Unix was highly portable, so it was adopted, copied, and modified by many companies and universities.\n",
        "\n",
        "- The source code was available, but modification and redistribution were restricted and its commercial version was too expensive.\n",
        "\n",
        "- Finnish student Linus Torvalds decides to create a new free operating system kernel called Linux.\n",
        "\n",
        "- Linux released its first version in 1991.\n",
        "\n",
        "## Advantages of Linux OS\n",
        "\n",
        "- Linux OS are free and open source.\n",
        "\n",
        "- You can modify the source code and adapt it to your applications at will.\n",
        "\n",
        "- Linux provides security (much harder to hack, nearly no viruses).\n",
        "\n",
        "- Linux distributions come with an in-built platform to do programming.\n",
        "\n",
        "- There are two types of desktops: KDE and GNOME.\n",
        "\n",
        "## Flavours of Linux OS\n",
        "\n",
        "- You have many options, the most popular ones in physics are:\n",
        "\n",
        "  - Ubuntu\n",
        "\n",
        "  - Fedora\n",
        "\n",
        "  - Debian\n",
        "\n",
        "  - CentOS\n",
        "\n",
        "- Linux can run on virtual machines / co-exist with other OS.\n",
        "\n",
        "- Linux is installed in (pretty much all) large-scale, high-performance supercomputers.\n",
        "\n",
        "- Linux is the OS of cloud servers (Google Colab).\n",
        "\n",
        "- The backend of GitHub relies heavily on Linux.\n"
      ],
      "metadata": {
        "id": "U-i6PIRVSr8G"
      }
    },
    {
      "cell_type": "markdown",
      "source": [
        "## Linux filesystem:\n",
        "\n",
        "* `/`: The **root directory**. The top of the filesystem hierarchy. All other directories and files branch off from here.\n",
        "\n",
        "* `/bin`: Contains essential **binary** executable programs that are required to boot the system and are used by all users (e.g., `ls`, `cp`, `mv`).\n",
        "\n",
        "* `/sbin`: Contains essential **system binaries** required for system administration (e.g., `fdisk`, `reboot`, `shutdown`). These are typically run by the root user.\n",
        "\n",
        "* `/etc`: The \"etcetera\" directory holds **configuration files** for system-wide services and applications.\n",
        "\n",
        "* `/home`: The primary location for **user home directories**. Each user typically has a subdirectory here (e.g., `/home/wladimir`).\n",
        "\n",
        "* `/var`: Contains **variable data**. Files that change frequently during system operation are stored here, such as log files, mail queues, and spools.\n",
        "\n",
        "* `/tmp`: The **temporary file** directory stores data, which are often deleted on system reboot.\n",
        "\n",
        "* `/usr`: Stands for **User System Resources**. This is a major branch of the filesystem containing most of the user applications and files:\n",
        "\n",
        "    * `/usr/bin`: Contains non-essential user commands.\n",
        "\n",
        "    * `/usr/lib`: Holds shared libraries for the programs in `/usr/bin`.\n",
        "\n",
        "    * `/usr/local`: Used for installing **locally compiled software** to prevent conflicts with the rest of the system.\n",
        "\n",
        "* `/dev`: Contains **device files** that represent physical and virtual devices (e.g., hard drives, terminals, printers).\n",
        "\n",
        "* `/opt`: Used for installing **optional or third-party software** that doesn't follow the standard filesystem hierarchy.\n",
        "\n",
        "* `/proc`: A **virtual filesystem** that contains process information and other kernel state data. Files in this directory are not real files on a disk but are dynamically generated by the kernel.\n",
        "\n",
        "* `/boot`: This directory holds files required to **boot the system**, including the Linux kernel and the GRUB bootloader configuration."
      ],
      "metadata": {
        "id": "OhuRZr0eWEQu"
      }
    },
    {
      "cell_type": "markdown",
      "source": [
        "## Basic Linux OS commands\n",
        "\n",
        "1. man — offline manual, get help about any commands\n",
        "2. which — find out where a command is defined.\n",
        "3. <command> --help — Find help on any command\n",
        "4. cd — Change the current directory (folder)\n",
        "5. ls — List files in a directory\n",
        "6. mkdir — Make/create a new directory\n",
        "7. pwd — Print current directory\n",
        "8. cp — Copy files and directories\n",
        "9. rm — Delete files and directories\n",
        "10. cat file.txt — see contents of file.\n",
        "11. head file.txt — see the first 10 lines of a file\n",
        "12. tail file.txt— see the last 10 lines of a file.\n",
        "13. chmod — change permissions of a file or directory for 3 user groups: user (owner) permission, group permission, and other permission.\n",
        "14. diff file1.txt file2.txt— show differences between two files\n",
        "15. file — show the type of a file\n",
        "16. less — browse the contents of a file, exit with q\n",
        "17. locate — find files with names matching a pattern\n",
        "18. touch — Create a new file or update an existing one\n",
        "19. top — See what is going on, what processes are running, exit with q\n",
        "20. ping server — check to see if a server is alive\n",
        "21. df — show free disk space\n",
        "22. du — show disk space usage\n",
        "23. uname -a — information on Linux kernel\n",
        "24. uptime — how long the system has been running\n",
        "25. date — show current date/time\n",
        "\n",
        "\n",
        "\n",
        "##### References and slides:\n",
        "\n",
        "https://www.greenteapress.com/thinkpython/thinkCSpy/html/chap01.html\n",
        "\n",
        "\n",
        "https://github.com/wbandabarragan/computational-physics-1/blob/main/extra-notes/introduction-linux.pdf"
      ],
      "metadata": {
        "id": "4Kz44zYFTaJl"
      }
    },
    {
      "cell_type": "markdown",
      "source": [
        "## Check where we are:"
      ],
      "metadata": {
        "id": "-dwdmU4lv99s"
      }
    },
    {
      "cell_type": "code",
      "execution_count": 1,
      "metadata": {
        "colab": {
          "base_uri": "https://localhost:8080/"
        },
        "id": "voLU13Igvn57",
        "outputId": "f0d6eb2b-4cd2-4bbf-e5b8-020187d8ca4a"
      },
      "outputs": [
        {
          "output_type": "stream",
          "name": "stdout",
          "text": [
            "/content\n"
          ]
        }
      ],
      "source": [
        "!pwd"
      ]
    },
    {
      "cell_type": "markdown",
      "source": [
        "## Check binaries"
      ],
      "metadata": {
        "id": "iuSS4Oe4po-m"
      }
    },
    {
      "cell_type": "code",
      "source": [
        "!which ls"
      ],
      "metadata": {
        "colab": {
          "base_uri": "https://localhost:8080/"
        },
        "id": "cIBP82gHpr3r",
        "outputId": "1fb36fbe-20a9-47ba-f8de-9a5c33441770"
      },
      "execution_count": 43,
      "outputs": [
        {
          "output_type": "stream",
          "name": "stdout",
          "text": [
            "/usr/bin/ls\n"
          ]
        }
      ]
    },
    {
      "cell_type": "code",
      "source": [
        "!which python"
      ],
      "metadata": {
        "colab": {
          "base_uri": "https://localhost:8080/"
        },
        "id": "qG1p5PZ0p6Bb",
        "outputId": "176e2be7-fb49-4987-e381-7edda41acbfa"
      },
      "execution_count": 45,
      "outputs": [
        {
          "output_type": "stream",
          "name": "stdout",
          "text": [
            "/usr/local/bin/python\n"
          ]
        }
      ]
    },
    {
      "cell_type": "markdown",
      "source": [
        "## Check Linux kernel information:"
      ],
      "metadata": {
        "id": "UrpIPRSFwEEo"
      }
    },
    {
      "cell_type": "code",
      "source": [
        "!uname -a"
      ],
      "metadata": {
        "colab": {
          "base_uri": "https://localhost:8080/"
        },
        "id": "5VkwVOaZwBaK",
        "outputId": "74f02ede-b072-4203-f0b7-5bd52f0e1aa5"
      },
      "execution_count": 2,
      "outputs": [
        {
          "output_type": "stream",
          "name": "stdout",
          "text": [
            "Linux bf8236f71d07 6.1.123+ #1 SMP PREEMPT_DYNAMIC Sun Mar 30 16:01:29 UTC 2025 x86_64 x86_64 x86_64 GNU/Linux\n"
          ]
        }
      ]
    },
    {
      "cell_type": "markdown",
      "source": [
        "## Release version:"
      ],
      "metadata": {
        "id": "ES04v1hewxAz"
      }
    },
    {
      "cell_type": "code",
      "source": [
        "!lsb_release -a"
      ],
      "metadata": {
        "colab": {
          "base_uri": "https://localhost:8080/"
        },
        "id": "JEsIoN8twULu",
        "outputId": "ed3668b2-9c0b-47c4-8de2-31d3b104f486"
      },
      "execution_count": 3,
      "outputs": [
        {
          "output_type": "stream",
          "name": "stdout",
          "text": [
            "No LSB modules are available.\n",
            "Distributor ID:\tUbuntu\n",
            "Description:\tUbuntu 22.04.4 LTS\n",
            "Release:\t22.04\n",
            "Codename:\tjammy\n"
          ]
        }
      ]
    },
    {
      "cell_type": "markdown",
      "source": [
        "## Release version with cat:"
      ],
      "metadata": {
        "id": "dy6iwLdLxIaq"
      }
    },
    {
      "cell_type": "code",
      "source": [
        "!cat /etc/os-release"
      ],
      "metadata": {
        "colab": {
          "base_uri": "https://localhost:8080/"
        },
        "id": "s8QCcVqTw4u8",
        "outputId": "1c31456e-daa8-43c9-abe7-156d6e748ec8"
      },
      "execution_count": 4,
      "outputs": [
        {
          "output_type": "stream",
          "name": "stdout",
          "text": [
            "PRETTY_NAME=\"Ubuntu 22.04.4 LTS\"\n",
            "NAME=\"Ubuntu\"\n",
            "VERSION_ID=\"22.04\"\n",
            "VERSION=\"22.04.4 LTS (Jammy Jellyfish)\"\n",
            "VERSION_CODENAME=jammy\n",
            "ID=ubuntu\n",
            "ID_LIKE=debian\n",
            "HOME_URL=\"https://www.ubuntu.com/\"\n",
            "SUPPORT_URL=\"https://help.ubuntu.com/\"\n",
            "BUG_REPORT_URL=\"https://bugs.launchpad.net/ubuntu/\"\n",
            "PRIVACY_POLICY_URL=\"https://www.ubuntu.com/legal/terms-and-policies/privacy-policy\"\n",
            "UBUNTU_CODENAME=jammy\n"
          ]
        }
      ]
    },
    {
      "cell_type": "markdown",
      "source": [
        "## Disc usage:"
      ],
      "metadata": {
        "id": "Yd-AHJm6zCae"
      }
    },
    {
      "cell_type": "code",
      "source": [
        "!df -h"
      ],
      "metadata": {
        "colab": {
          "base_uri": "https://localhost:8080/"
        },
        "id": "u0pu7S9EyVMQ",
        "outputId": "6861b835-2c89-4e3f-eccf-e9df05d9a652"
      },
      "execution_count": 5,
      "outputs": [
        {
          "output_type": "stream",
          "name": "stdout",
          "text": [
            "Filesystem      Size  Used Avail Use% Mounted on\n",
            "overlay         108G   39G   70G  36% /\n",
            "tmpfs            64M     0   64M   0% /dev\n",
            "shm             5.8G     0  5.8G   0% /dev/shm\n",
            "/dev/root       2.0G  1.2G  775M  61% /usr/sbin/docker-init\n",
            "tmpfs           6.4G  144K  6.4G   1% /var/colab\n",
            "/dev/sda1        73G   40G   34G  55% /kaggle/input\n",
            "tmpfs           6.4G     0  6.4G   0% /proc/acpi\n",
            "tmpfs           6.4G     0  6.4G   0% /proc/scsi\n",
            "tmpfs           6.4G     0  6.4G   0% /sys/firmware\n",
            "drive           108G   42G   66G  39% /content/drive\n"
          ]
        }
      ]
    },
    {
      "cell_type": "markdown",
      "source": [
        "## Linux filesyste with ls:"
      ],
      "metadata": {
        "id": "4A7by3dczoFk"
      }
    },
    {
      "cell_type": "code",
      "source": [
        "!ls -ltr /"
      ],
      "metadata": {
        "colab": {
          "base_uri": "https://localhost:8080/"
        },
        "id": "MnAJwmSQzKBA",
        "outputId": "a98d310d-799a-444a-ee24-f328f3ccc8ec"
      },
      "execution_count": 6,
      "outputs": [
        {
          "output_type": "stream",
          "name": "stdout",
          "text": [
            "total 448\n",
            "-r-xr-xr-x   1 root root 346012 Jan  1  2000 python-apt.tar.xz\n",
            "drwxr-xr-x   2 root root   4096 Apr 18  2022 home\n",
            "drwxr-xr-x   2 root root   4096 Apr 18  2022 boot\n",
            "lrwxrwxrwx   1 root root      8 Jun 27  2024 sbin -> usr/sbin\n",
            "lrwxrwxrwx   1 root root     10 Jun 27  2024 libx32 -> usr/libx32\n",
            "lrwxrwxrwx   1 root root      9 Jun 27  2024 lib64 -> usr/lib64\n",
            "lrwxrwxrwx   1 root root      9 Jun 27  2024 lib32 -> usr/lib32\n",
            "lrwxrwxrwx   1 root root      7 Jun 27  2024 lib -> usr/lib\n",
            "lrwxrwxrwx   1 root root      7 Jun 27  2024 bin -> usr/bin\n",
            "drwxr-xr-x   2 root root   4096 Jun 27  2024 srv\n",
            "drwxr-xr-x   2 root root   4096 Jun 27  2024 mnt\n",
            "drwxr-xr-x   2 root root   4096 Jun 27  2024 media\n",
            "-rw-r--r--   1 root root  17294 Jul 10  2024 NGC-DL-CONTAINER-LICENSE\n",
            "-rw-r--r--   1 root root   4332 Jul 10  2024 cuda-keyring_1.1-1_all.deb\n",
            "drwxr-xr-x   1 root root   4096 Aug 14 13:14 run\n",
            "drwxrwxr-x  14 root root   4096 Aug 14 13:19 python-apt\n",
            "drwxr-xr-x   1 root root   4096 Aug 14 13:49 tools\n",
            "drwxr-xr-x   1 root root   4096 Aug 14 13:50 datalab\n",
            "drwxr-xr-x   1 root root   4096 Aug 14 13:50 var\n",
            "drwxr-xr-x   1 root root   4096 Aug 14 13:51 usr\n",
            "drwxr-xr-x   1 root root   4096 Aug 14 14:07 opt\n",
            "drwxr-xr-x   1 root root   4096 Aug 18 13:27 etc\n",
            "dr-xr-xr-x 200 root root      0 Aug 18 13:27 proc\n",
            "dr-xr-xr-x  13 root root      0 Aug 18 13:27 sys\n",
            "drwxr-xr-x   3 root root   4096 Aug 18 13:27 kaggle\n",
            "drwxr-xr-x   5 root root    360 Aug 18 13:27 dev\n",
            "drwx------   1 root root   4096 Aug 18 13:27 root\n",
            "drwxr-xr-x   1 root root   4096 Aug 18 13:29 content\n",
            "drwxrwxrwt   1 root root   4096 Aug 18 14:15 tmp\n"
          ]
        }
      ]
    },
    {
      "cell_type": "markdown",
      "source": [
        "## Mounting GDrive:"
      ],
      "metadata": {
        "id": "uhx9xTFN0Psm"
      }
    },
    {
      "cell_type": "code",
      "source": [
        "# Import Colab tools\n",
        "from google.colab import drive\n",
        "drive.mount('/content/drive')"
      ],
      "metadata": {
        "colab": {
          "base_uri": "https://localhost:8080/"
        },
        "id": "fYBq2nkL0UIJ",
        "outputId": "9287ab4f-24a4-4316-85d9-2efe3ee7e42f"
      },
      "execution_count": 7,
      "outputs": [
        {
          "output_type": "stream",
          "name": "stdout",
          "text": [
            "Drive already mounted at /content/drive; to attempt to forcibly remount, call drive.mount(\"/content/drive\", force_remount=True).\n"
          ]
        }
      ]
    },
    {
      "cell_type": "markdown",
      "source": [
        "## Navigating through the filesystem:\n",
        "\n",
        "- ! -> non-persisting wrpapper\n",
        "\n",
        "- % -> persisting"
      ],
      "metadata": {
        "id": "FXXGDLcCjeMB"
      }
    },
    {
      "cell_type": "code",
      "source": [
        "# cd command\n",
        "# Non-=persisting\n",
        "#!cd /content/drive\n",
        "\n",
        "# Perssiting\n",
        "%cd /content/drive\n",
        "!pwd\n"
      ],
      "metadata": {
        "colab": {
          "base_uri": "https://localhost:8080/"
        },
        "id": "wkoEBRIxjdM9",
        "outputId": "38bfac1a-8c82-4891-8b51-9e757179b3d1"
      },
      "execution_count": 10,
      "outputs": [
        {
          "output_type": "stream",
          "name": "stdout",
          "text": [
            "/content/drive\n",
            "/content/drive\n"
          ]
        }
      ]
    },
    {
      "cell_type": "code",
      "source": [
        "!ls -ltr"
      ],
      "metadata": {
        "colab": {
          "base_uri": "https://localhost:8080/"
        },
        "id": "mVzITxspkXVj",
        "outputId": "cc58d1e9-40f4-4e7b-dffb-ea8523232820"
      },
      "execution_count": 11,
      "outputs": [
        {
          "output_type": "stream",
          "name": "stdout",
          "text": [
            "total 8\n",
            "drwx------ 4 root root 4096 Aug 18 13:29 Shareddrives\n",
            "drwx------ 2 root root 4096 Aug 18 13:29 MyDrive\n"
          ]
        }
      ]
    },
    {
      "cell_type": "code",
      "source": [
        "%cd MyDrive/\n",
        "!pwd"
      ],
      "metadata": {
        "colab": {
          "base_uri": "https://localhost:8080/"
        },
        "id": "qQKzIwcFll2y",
        "outputId": "89103ca5-d639-499b-b626-64b6032b5e98"
      },
      "execution_count": 12,
      "outputs": [
        {
          "output_type": "stream",
          "name": "stdout",
          "text": [
            "/content/drive/MyDrive\n",
            "/content/drive/MyDrive\n"
          ]
        }
      ]
    },
    {
      "cell_type": "code",
      "source": [
        "!ls -ltr *.docx"
      ],
      "metadata": {
        "colab": {
          "base_uri": "https://localhost:8080/"
        },
        "id": "woRAUtc0luK8",
        "outputId": "bec93835-1bcf-4ed4-d0a5-1119254e9533"
      },
      "execution_count": 14,
      "outputs": [
        {
          "output_type": "stream",
          "name": "stdout",
          "text": [
            "-rw------- 1 root root  75010 Oct 20  2023 '03.08.2023 Ajuste_curricular_MFF_v2.docx'\n",
            "-rw------- 1 root root  14554 Oct 26  2023 'Guía Justificación del Excedente programas aprobados (2).docx'\n",
            "-rw------- 1 root root  76198 Oct 26  2023  Ajuste_curricular_MFF_v3.docx\n",
            "-rw------- 1 root root 283520 Nov 13  2023 'Anexo 2 - Ajuste_curricular_MFF_vfinal.docx'\n",
            "-rw------- 1 root root  43588 Feb  2  2024  Observaciones_MSCFF_v2.docx\n"
          ]
        }
      ]
    },
    {
      "cell_type": "markdown",
      "source": [
        "## Creating directories:"
      ],
      "metadata": {
        "id": "kPXjoXnfmadN"
      }
    },
    {
      "cell_type": "code",
      "source": [
        "!mkdir CP1_unit1"
      ],
      "metadata": {
        "id": "imuO6RyBmZ6_"
      },
      "execution_count": 15,
      "outputs": []
    },
    {
      "cell_type": "code",
      "source": [
        "!ls -ltr CP1_unit1"
      ],
      "metadata": {
        "colab": {
          "base_uri": "https://localhost:8080/"
        },
        "id": "tfb6HhtImtsj",
        "outputId": "f034474d-ec70-4e3a-e9be-07c1db3013b9"
      },
      "execution_count": 19,
      "outputs": [
        {
          "output_type": "stream",
          "name": "stdout",
          "text": [
            "total 0\n"
          ]
        }
      ]
    },
    {
      "cell_type": "code",
      "source": [
        "%cd CP1_unit1\n",
        "!pwd"
      ],
      "metadata": {
        "colab": {
          "base_uri": "https://localhost:8080/"
        },
        "id": "nss5DFEJnPCS",
        "outputId": "6773c60e-da30-43cf-de98-311baf94766b"
      },
      "execution_count": 22,
      "outputs": [
        {
          "output_type": "stream",
          "name": "stdout",
          "text": [
            "/content/drive/MyDrive/CP1_unit1\n",
            "/content/drive/MyDrive/CP1_unit1\n"
          ]
        }
      ]
    },
    {
      "cell_type": "markdown",
      "source": [
        "## Web scrapping File with wget:"
      ],
      "metadata": {
        "id": "TSolSkuO09UX"
      }
    },
    {
      "cell_type": "code",
      "source": [
        "!wget https://raw.githubusercontent.com/wbandabarragan/physics-teaching-data/main/1D-data/books.dat"
      ],
      "metadata": {
        "colab": {
          "base_uri": "https://localhost:8080/"
        },
        "id": "0b0dp0uG2AJ2",
        "outputId": "8097cc10-9120-4382-8f29-e1546e3016cd"
      },
      "execution_count": 23,
      "outputs": [
        {
          "output_type": "stream",
          "name": "stdout",
          "text": [
            "--2025-08-18 14:40:49--  https://raw.githubusercontent.com/wbandabarragan/physics-teaching-data/main/1D-data/books.dat\n",
            "Resolving raw.githubusercontent.com (raw.githubusercontent.com)... 185.199.108.133, 185.199.109.133, 185.199.110.133, ...\n",
            "Connecting to raw.githubusercontent.com (raw.githubusercontent.com)|185.199.108.133|:443... connected.\n",
            "HTTP request sent, awaiting response... 200 OK\n",
            "Length: 114 [text/plain]\n",
            "Saving to: ‘books.dat’\n",
            "\n",
            "\rbooks.dat             0%[                    ]       0  --.-KB/s               \rbooks.dat           100%[===================>]     114  --.-KB/s    in 0s      \n",
            "\n",
            "2025-08-18 14:40:49 (2.14 MB/s) - ‘books.dat’ saved [114/114]\n",
            "\n"
          ]
        }
      ]
    },
    {
      "cell_type": "code",
      "source": [
        "!pwd\n"
      ],
      "metadata": {
        "colab": {
          "base_uri": "https://localhost:8080/"
        },
        "id": "sr_1wPd-2Lj9",
        "outputId": "c5675c7c-72dd-4695-b1d0-7d3b20142138"
      },
      "execution_count": 26,
      "outputs": [
        {
          "output_type": "stream",
          "name": "stdout",
          "text": [
            "/content/drive/MyDrive/CP1_unit1\n"
          ]
        }
      ]
    },
    {
      "cell_type": "markdown",
      "source": [
        "## List files:"
      ],
      "metadata": {
        "id": "BdP1BnuBzjIa"
      }
    },
    {
      "cell_type": "code",
      "source": [
        "!ls -ltr *.dat"
      ],
      "metadata": {
        "colab": {
          "base_uri": "https://localhost:8080/"
        },
        "id": "d3ucmfBI2Ztt",
        "outputId": "5169cc46-1ba0-4c8d-d62f-341f86aa2c03"
      },
      "execution_count": 27,
      "outputs": [
        {
          "output_type": "stream",
          "name": "stdout",
          "text": [
            "-rw------- 1 root root 114 Aug 18 14:40 books.dat\n"
          ]
        }
      ]
    },
    {
      "cell_type": "markdown",
      "source": [
        "## Inspect files:"
      ],
      "metadata": {
        "id": "OTKYNHf6oRMP"
      }
    },
    {
      "cell_type": "code",
      "source": [
        "# Full file inspection\n",
        "!cat books.dat"
      ],
      "metadata": {
        "colab": {
          "base_uri": "https://localhost:8080/"
        },
        "id": "BDnVoBj82aZq",
        "outputId": "b1d804a4-c017-4a0c-e7b4-fd8817439e78"
      },
      "execution_count": 32,
      "outputs": [
        {
          "output_type": "stream",
          "name": "stdout",
          "text": [
            "N\tPages\tThickness\n",
            "1\t10\t3.0\n",
            "2\t20\t4.5\n",
            "3\t30\t5.5\n",
            "4\t40\t7.0\n",
            "5\t50\t8.0\n",
            "6\t60\t9.0\n",
            "7\t70\t9.5\n",
            "8\t80\t11.1\n",
            "9\t90\t12.0\n",
            "10\t100\t12.9\n",
            "\n"
          ]
        }
      ]
    },
    {
      "cell_type": "code",
      "source": [
        "# Inspect the top of the file (n lines with -n)\n",
        "!head -n 2 books.dat"
      ],
      "metadata": {
        "colab": {
          "base_uri": "https://localhost:8080/"
        },
        "id": "an7QWAYu3AKq",
        "outputId": "911f8436-b2c0-4ddd-ccb9-d9bedf7106f7"
      },
      "execution_count": 36,
      "outputs": [
        {
          "output_type": "stream",
          "name": "stdout",
          "text": [
            "N\tPages\tThickness\n",
            "1\t10\t3.0\n"
          ]
        }
      ]
    },
    {
      "cell_type": "code",
      "source": [
        "# Bottom tof the file (n lines with -n)\n",
        "\n",
        "!tail -n 3 books.dat"
      ],
      "metadata": {
        "colab": {
          "base_uri": "https://localhost:8080/"
        },
        "id": "RGHy1Bu3o8S7",
        "outputId": "4503199a-d8df-4983-9333-8200796098ad"
      },
      "execution_count": 38,
      "outputs": [
        {
          "output_type": "stream",
          "name": "stdout",
          "text": [
            "9\t90\t12.0\n",
            "10\t100\t12.9\n",
            "\n"
          ]
        }
      ]
    },
    {
      "cell_type": "markdown",
      "source": [
        "## Copying and moving files"
      ],
      "metadata": {
        "id": "n-yIws3Rqbmh"
      }
    },
    {
      "cell_type": "code",
      "source": [
        "# Cpyting files\n",
        "!cp books.dat books2.dat"
      ],
      "metadata": {
        "id": "uAgCaZRAoif8"
      },
      "execution_count": 46,
      "outputs": []
    },
    {
      "cell_type": "code",
      "source": [],
      "metadata": {
        "id": "K2FBLFYhqy22"
      },
      "execution_count": null,
      "outputs": []
    },
    {
      "cell_type": "code",
      "source": [
        "!ls -ltr"
      ],
      "metadata": {
        "colab": {
          "base_uri": "https://localhost:8080/"
        },
        "id": "wdhD4j_Bqmge",
        "outputId": "3d20cd56-b8fa-4999-85db-a9f66a0d494f"
      },
      "execution_count": 47,
      "outputs": [
        {
          "output_type": "stream",
          "name": "stdout",
          "text": [
            "total 1\n",
            "-rw------- 1 root root 114 Aug 18 14:40 books.dat\n",
            "-rw------- 1 root root 114 Aug 18 14:51 books2.dat\n"
          ]
        }
      ]
    },
    {
      "cell_type": "markdown",
      "source": [
        "## Rename file"
      ],
      "metadata": {
        "id": "eWuuLtf4qxvR"
      }
    },
    {
      "cell_type": "code",
      "source": [
        "!mv books2.dat books_v2.dat"
      ],
      "metadata": {
        "id": "7OLqADj-qrUW"
      },
      "execution_count": 48,
      "outputs": []
    },
    {
      "cell_type": "code",
      "source": [
        "!ls -ltr"
      ],
      "metadata": {
        "colab": {
          "base_uri": "https://localhost:8080/"
        },
        "id": "xgd4d7Ucq3CR",
        "outputId": "40d622f7-eb04-43b8-a3bc-5af358dddc3b"
      },
      "execution_count": 49,
      "outputs": [
        {
          "output_type": "stream",
          "name": "stdout",
          "text": [
            "total 1\n",
            "-rw------- 1 root root 114 Aug 18 14:40 books.dat\n",
            "-rw------- 1 root root 114 Aug 18 14:51 books_v2.dat\n"
          ]
        }
      ]
    },
    {
      "cell_type": "markdown",
      "source": [
        "## Adding & removing directories and files:"
      ],
      "metadata": {
        "id": "8yZY0VccrGQN"
      }
    },
    {
      "cell_type": "code",
      "source": [
        "# Create a temporary directory\n",
        "!mkdir tmp"
      ],
      "metadata": {
        "id": "5TU0UgBDq4Yi"
      },
      "execution_count": 50,
      "outputs": []
    },
    {
      "cell_type": "code",
      "source": [
        "!ls -ltr"
      ],
      "metadata": {
        "colab": {
          "base_uri": "https://localhost:8080/"
        },
        "id": "QbDF7DUGrSfg",
        "outputId": "4b414d43-9d52-437f-97e6-25cbf47895b8"
      },
      "execution_count": 51,
      "outputs": [
        {
          "output_type": "stream",
          "name": "stdout",
          "text": [
            "total 5\n",
            "-rw------- 1 root root  114 Aug 18 14:40 books.dat\n",
            "-rw------- 1 root root  114 Aug 18 14:51 books_v2.dat\n",
            "drwx------ 2 root root 4096 Aug 18 14:54 tmp\n"
          ]
        }
      ]
    },
    {
      "cell_type": "code",
      "source": [
        "# Move file into that directory\n",
        "!cp books_v2.dat books_v3.dat"
      ],
      "metadata": {
        "id": "6JwE8fJ1rWjB"
      },
      "execution_count": 52,
      "outputs": []
    },
    {
      "cell_type": "code",
      "source": [
        "!ls -ltr"
      ],
      "metadata": {
        "colab": {
          "base_uri": "https://localhost:8080/"
        },
        "id": "-Q2sNN3_riS3",
        "outputId": "bdba9fcd-49e3-4311-d1db-e7d08690099b"
      },
      "execution_count": 53,
      "outputs": [
        {
          "output_type": "stream",
          "name": "stdout",
          "text": [
            "total 6\n",
            "-rw------- 1 root root  114 Aug 18 14:40 books.dat\n",
            "-rw------- 1 root root  114 Aug 18 14:51 books_v2.dat\n",
            "drwx------ 2 root root 4096 Aug 18 14:54 tmp\n",
            "-rw------- 1 root root  114 Aug 18 14:56 books_v3.dat\n"
          ]
        }
      ]
    },
    {
      "cell_type": "code",
      "source": [
        "# MOve the file to /tmp\n",
        "!mv books_v3.dat tmp/."
      ],
      "metadata": {
        "id": "DbVzFvD1rjcz"
      },
      "execution_count": 55,
      "outputs": []
    },
    {
      "cell_type": "code",
      "source": [
        "!ls -ltr tmp/."
      ],
      "metadata": {
        "colab": {
          "base_uri": "https://localhost:8080/"
        },
        "id": "ouRTm6QyrljV",
        "outputId": "575413cb-8d7c-4a50-9a36-032f2544ed49"
      },
      "execution_count": 57,
      "outputs": [
        {
          "output_type": "stream",
          "name": "stdout",
          "text": [
            "total 1\n",
            "-rw------- 1 root root 114 Aug 18 14:56 books_v3.dat\n"
          ]
        }
      ]
    },
    {
      "cell_type": "code",
      "source": [
        "!pwd"
      ],
      "metadata": {
        "colab": {
          "base_uri": "https://localhost:8080/"
        },
        "id": "9FbcesHyrsf9",
        "outputId": "2236dd80-85e3-4319-cd35-cf9a38f56d31"
      },
      "execution_count": 58,
      "outputs": [
        {
          "output_type": "stream",
          "name": "stdout",
          "text": [
            "/content/drive/MyDrive/CP1_unit1\n"
          ]
        }
      ]
    },
    {
      "cell_type": "code",
      "source": [
        "#Remove the v2 file\n",
        "!rm books_v2.dat"
      ],
      "metadata": {
        "id": "eOV3T2QUr6d6"
      },
      "execution_count": 59,
      "outputs": []
    },
    {
      "cell_type": "markdown",
      "source": [
        "## Coping or removing folders:"
      ],
      "metadata": {
        "id": "2BcgiHMrspNI"
      }
    },
    {
      "cell_type": "code",
      "source": [
        "# Cuplicate the folder\n",
        "!cp -r tmp tmp2"
      ],
      "metadata": {
        "id": "sMO99TvPr_7Z"
      },
      "execution_count": 62,
      "outputs": []
    },
    {
      "cell_type": "code",
      "source": [
        "!ls -ltr tmp2/"
      ],
      "metadata": {
        "colab": {
          "base_uri": "https://localhost:8080/"
        },
        "id": "aO2QtHSoss6q",
        "outputId": "57396155-3070-4417-e7e8-31bda2594b57"
      },
      "execution_count": 64,
      "outputs": [
        {
          "output_type": "stream",
          "name": "stdout",
          "text": [
            "total 1\n",
            "-rw------- 1 root root 114 Aug 18 15:01 books_v3.dat\n"
          ]
        }
      ]
    },
    {
      "cell_type": "code",
      "source": [
        "# Very carefully we remove the folder\n",
        "#!rm tmp2 # rm: cannot remove 'tmp2': Is a directory\n",
        "\n",
        "!rm -r tmp2"
      ],
      "metadata": {
        "id": "vQAuBCxFs3IJ"
      },
      "execution_count": 66,
      "outputs": []
    },
    {
      "cell_type": "code",
      "source": [
        "!ls -ltr"
      ],
      "metadata": {
        "colab": {
          "base_uri": "https://localhost:8080/"
        },
        "id": "Nd2Y4xwttXui",
        "outputId": "04a3b151-adb2-4d1b-b221-6308018cf1aa"
      },
      "execution_count": 67,
      "outputs": [
        {
          "output_type": "stream",
          "name": "stdout",
          "text": [
            "total 5\n",
            "-rw------- 1 root root  114 Aug 18 14:40 books.dat\n",
            "drwx------ 2 root root 4096 Aug 18 14:56 tmp\n"
          ]
        }
      ]
    },
    {
      "cell_type": "markdown",
      "source": [
        "## Compare files:"
      ],
      "metadata": {
        "id": "6QKP-O1Qv3DR"
      }
    },
    {
      "cell_type": "code",
      "source": [
        "!diff books.dat ./tmp/books_v3.dat"
      ],
      "metadata": {
        "id": "Tyag2p1-tgKo"
      },
      "execution_count": 72,
      "outputs": []
    },
    {
      "cell_type": "markdown",
      "source": [
        "## File permisions in Linux"
      ],
      "metadata": {
        "id": "WYcpwH2py7vr"
      }
    },
    {
      "cell_type": "code",
      "source": [
        "!ls -ltr"
      ],
      "metadata": {
        "colab": {
          "base_uri": "https://localhost:8080/"
        },
        "id": "i6Yx8wdQylVq",
        "outputId": "2d6118c4-4124-4e7d-8fd8-f70dff03e478"
      },
      "execution_count": 74,
      "outputs": [
        {
          "output_type": "stream",
          "name": "stdout",
          "text": [
            "total 5\n",
            "-rw------- 1 root root  114 Aug 18 14:40 books.dat\n",
            "drwx------ 2 root root 4096 Aug 18 14:56 tmp\n"
          ]
        }
      ]
    },
    {
      "cell_type": "code",
      "source": [],
      "metadata": {
        "id": "VtcphPVfzCav"
      },
      "execution_count": null,
      "outputs": []
    }
  ]
}