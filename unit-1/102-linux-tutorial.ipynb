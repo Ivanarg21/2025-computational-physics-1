{
  "nbformat": 4,
  "nbformat_minor": 0,
  "metadata": {
    "colab": {
      "provenance": [],
      "authorship_tag": "ABX9TyPg4WwolWDAWX49DFj2Urcx",
      "include_colab_link": true
    },
    "kernelspec": {
      "name": "python3",
      "display_name": "Python 3"
    },
    "language_info": {
      "name": "python"
    }
  },
  "cells": [
    {
      "cell_type": "markdown",
      "metadata": {
        "id": "view-in-github",
        "colab_type": "text"
      },
      "source": [
        "<a href=\"https://colab.research.google.com/github/wbandabarragan/computational-physics-1/blob/main/unit-1/102-linux-tutorial.ipynb\" target=\"_parent\"><img src=\"https://colab.research.google.com/assets/colab-badge.svg\" alt=\"Open In Colab\"/></a>"
      ]
    },
    {
      "cell_type": "markdown",
      "source": [
        "# Lecture 102: Linux OS and the need for open source software"
      ],
      "metadata": {
        "id": "N5zjs7T1v5JM"
      }
    },
    {
      "cell_type": "markdown",
      "source": [
        "## About Linux OS\n",
        "\n",
        "- It is an operating system based on Unix, which was developed by Ken Thompson and Dennis Ritchie (at AT&T Bell Laboratories) during the 60’s/70’s.\n",
        "\n",
        "- Unix was highly portable, so it was adopted, copied, and modified by many companies and universities.\n",
        "\n",
        "- The source code was available, but modification and redistribution were restricted and its commercial version was too expensive.\n",
        "\n",
        "- Finnish student Linus Torvalds decides to create a new free operating system kernel called Linux.\n",
        "\n",
        "- Linux released its first version in 1991.\n",
        "\n",
        "## Advantages of Linux OS\n",
        "\n",
        "- Linux OS are free and open source.\n",
        "\n",
        "- You can modify the source code and adapt it to your applications at will.\n",
        "\n",
        "- Linux provides security (much harder to hack, nearly no viruses).\n",
        "\n",
        "- Linux distributions come with an in-built platform to do programming.\n",
        "\n",
        "- There are two types of desktops: KDE and GNOME.\n",
        "\n",
        "## Flavours of Linux OS\n",
        "\n",
        "- You have many options, the most popular ones in physics are:\n",
        "\n",
        "  - Ubuntu\n",
        "\n",
        "  - Fedora\n",
        "\n",
        "  - Debian\n",
        "\n",
        "  - CentOS\n",
        "\n",
        "- Linux can run on virtual machines / co-exist with other OS.\n",
        "\n",
        "- Linux is installed in (pretty much all) large-scale, high-performance supercomputers.\n",
        "\n",
        "- Linux is the OS of cloud servers (Google Colab).\n",
        "\n",
        "- The backend of GitHub relies heavily on Linux.\n"
      ],
      "metadata": {
        "id": "U-i6PIRVSr8G"
      }
    },
    {
      "cell_type": "markdown",
      "source": [
        "## Linux filesystem:\n",
        "\n",
        "* `/`: The **root directory**. The top of the filesystem hierarchy. All other directories and files branch off from here.\n",
        "\n",
        "* `/bin`: Contains essential **binary** executable programs that are required to boot the system and are used by all users (e.g., `ls`, `cp`, `mv`).\n",
        "\n",
        "* `/sbin`: Contains essential **system binaries** required for system administration (e.g., `fdisk`, `reboot`, `shutdown`). These are typically run by the root user.\n",
        "\n",
        "* `/etc`: The \"etcetera\" directory holds **configuration files** for system-wide services and applications.\n",
        "\n",
        "* `/home`: The primary location for **user home directories**. Each user typically has a subdirectory here (e.g., `/home/wladimir`).\n",
        "\n",
        "* `/var`: Contains **variable data**. Files that change frequently during system operation are stored here, such as log files, mail queues, and spools.\n",
        "\n",
        "* `/tmp`: The **temporary file** directory stores data, which are often deleted on system reboot.\n",
        "\n",
        "* `/usr`: Stands for **User System Resources**. This is a major branch of the filesystem containing most of the user applications and files:\n",
        "\n",
        "    * `/usr/bin`: Contains non-essential user commands.\n",
        "\n",
        "    * `/usr/lib`: Holds shared libraries for the programs in `/usr/bin`.\n",
        "\n",
        "    * `/usr/local`: Used for installing **locally compiled software** to prevent conflicts with the rest of the system.\n",
        "\n",
        "* `/dev`: Contains **device files** that represent physical and virtual devices (e.g., hard drives, terminals, printers).\n",
        "\n",
        "* `/opt`: Used for installing **optional or third-party software** that doesn't follow the standard filesystem hierarchy.\n",
        "\n",
        "* `/proc`: A **virtual filesystem** that contains process information and other kernel state data. Files in this directory are not real files on a disk but are dynamically generated by the kernel.\n",
        "\n",
        "* `/boot`: This directory holds files required to **boot the system**, including the Linux kernel and the GRUB bootloader configuration."
      ],
      "metadata": {
        "id": "OhuRZr0eWEQu"
      }
    },
    {
      "cell_type": "markdown",
      "source": [
        "## Basic Linux OS commands\n",
        "\n",
        "1. man — offline manual, get help about any commands\n",
        "2. which — find out where a command is defined.\n",
        "3. <command> --help — Find help on any command\n",
        "4. cd — Change the current directory (folder)\n",
        "5. ls — List files in a directory\n",
        "6. mkdir — Make/create a new directory\n",
        "7. pwd — Print current directory\n",
        "8. cp — Copy files and directories\n",
        "9. rm — Delete files and directories\n",
        "10. cat file.txt — see contents of file.\n",
        "11. head file.txt — see the first 10 lines of a file\n",
        "12. tail file.txt— see the last 10 lines of a file.\n",
        "13. chmod — change permissions of a file or directory for 3 user groups: user (owner) permission, group permission, and other permission.\n",
        "14. diff file1.txt file2.txt— show differences between two files\n",
        "15. file — show the type of a file\n",
        "16. less — browse the contents of a file, exit with q\n",
        "17. locate — find files with names matching a pattern\n",
        "18. touch — Create a new file or update an existing one\n",
        "19. top — See what is going on, what processes are running, exit with q\n",
        "20. ping server — check to see if a server is alive\n",
        "21. df — show free disk space\n",
        "22. du — show disk space usage\n",
        "23. uname -a — information on Linux kernel\n",
        "24. uptime — how long the system has been running\n",
        "25. date — show current date/time\n",
        "\n",
        "\n",
        "\n",
        "##### References and slides:\n",
        "\n",
        "https://www.greenteapress.com/thinkpython/thinkCSpy/html/chap01.html\n",
        "\n",
        "\n",
        "https://github.com/wbandabarragan/computational-physics-1/blob/main/extra-notes/introduction-linux.pdf"
      ],
      "metadata": {
        "id": "4Kz44zYFTaJl"
      }
    },
    {
      "cell_type": "markdown",
      "source": [
        "## Check where we are:"
      ],
      "metadata": {
        "id": "-dwdmU4lv99s"
      }
    },
    {
      "cell_type": "code",
      "execution_count": 1,
      "metadata": {
        "colab": {
          "base_uri": "https://localhost:8080/"
        },
        "id": "voLU13Igvn57",
        "outputId": "ae6e88e1-1ba4-4fc7-c51a-e83290f2dab7"
      },
      "outputs": [
        {
          "output_type": "stream",
          "name": "stdout",
          "text": [
            "/content\n"
          ]
        }
      ],
      "source": [
        "!pwd"
      ]
    },
    {
      "cell_type": "markdown",
      "source": [
        "## Check Linux kernel information:"
      ],
      "metadata": {
        "id": "UrpIPRSFwEEo"
      }
    },
    {
      "cell_type": "code",
      "source": [
        "!uname -a"
      ],
      "metadata": {
        "colab": {
          "base_uri": "https://localhost:8080/"
        },
        "id": "5VkwVOaZwBaK",
        "outputId": "6db3c06e-6fdc-4817-9ee7-85d32d51dc0f"
      },
      "execution_count": 2,
      "outputs": [
        {
          "output_type": "stream",
          "name": "stdout",
          "text": [
            "Linux bf8236f71d07 6.1.123+ #1 SMP PREEMPT_DYNAMIC Sun Mar 30 16:01:29 UTC 2025 x86_64 x86_64 x86_64 GNU/Linux\n"
          ]
        }
      ]
    },
    {
      "cell_type": "markdown",
      "source": [
        "## Release version:"
      ],
      "metadata": {
        "id": "ES04v1hewxAz"
      }
    },
    {
      "cell_type": "code",
      "source": [
        "!lsb_release -a"
      ],
      "metadata": {
        "colab": {
          "base_uri": "https://localhost:8080/"
        },
        "id": "JEsIoN8twULu",
        "outputId": "b1326c61-b8b6-40aa-82b0-0cf47c77f32b"
      },
      "execution_count": 3,
      "outputs": [
        {
          "output_type": "stream",
          "name": "stdout",
          "text": [
            "No LSB modules are available.\n",
            "Distributor ID:\tUbuntu\n",
            "Description:\tUbuntu 22.04.4 LTS\n",
            "Release:\t22.04\n",
            "Codename:\tjammy\n"
          ]
        }
      ]
    },
    {
      "cell_type": "markdown",
      "source": [
        "## Release version with cat:"
      ],
      "metadata": {
        "id": "dy6iwLdLxIaq"
      }
    },
    {
      "cell_type": "code",
      "source": [
        "!cat /etc/os-release"
      ],
      "metadata": {
        "colab": {
          "base_uri": "https://localhost:8080/"
        },
        "id": "s8QCcVqTw4u8",
        "outputId": "ae14041e-b4c3-48a8-d93e-d93c0567c18d"
      },
      "execution_count": 4,
      "outputs": [
        {
          "output_type": "stream",
          "name": "stdout",
          "text": [
            "PRETTY_NAME=\"Ubuntu 22.04.4 LTS\"\n",
            "NAME=\"Ubuntu\"\n",
            "VERSION_ID=\"22.04\"\n",
            "VERSION=\"22.04.4 LTS (Jammy Jellyfish)\"\n",
            "VERSION_CODENAME=jammy\n",
            "ID=ubuntu\n",
            "ID_LIKE=debian\n",
            "HOME_URL=\"https://www.ubuntu.com/\"\n",
            "SUPPORT_URL=\"https://help.ubuntu.com/\"\n",
            "BUG_REPORT_URL=\"https://bugs.launchpad.net/ubuntu/\"\n",
            "PRIVACY_POLICY_URL=\"https://www.ubuntu.com/legal/terms-and-policies/privacy-policy\"\n",
            "UBUNTU_CODENAME=jammy\n"
          ]
        }
      ]
    },
    {
      "cell_type": "markdown",
      "source": [
        "## Disc usage:"
      ],
      "metadata": {
        "id": "Yd-AHJm6zCae"
      }
    },
    {
      "cell_type": "code",
      "source": [
        "!df -h"
      ],
      "metadata": {
        "colab": {
          "base_uri": "https://localhost:8080/"
        },
        "id": "u0pu7S9EyVMQ",
        "outputId": "3c252b23-ee5b-4e99-d8ed-bf20ebc7c35c"
      },
      "execution_count": 5,
      "outputs": [
        {
          "output_type": "stream",
          "name": "stdout",
          "text": [
            "Filesystem      Size  Used Avail Use% Mounted on\n",
            "overlay         108G   39G   70G  36% /\n",
            "tmpfs            64M     0   64M   0% /dev\n",
            "shm             5.8G     0  5.8G   0% /dev/shm\n",
            "/dev/root       2.0G  1.2G  775M  61% /usr/sbin/docker-init\n",
            "tmpfs           6.4G   36K  6.4G   1% /var/colab\n",
            "/dev/sda1        73G   40G   34G  54% /kaggle/input\n",
            "tmpfs           6.4G     0  6.4G   0% /proc/acpi\n",
            "tmpfs           6.4G     0  6.4G   0% /proc/scsi\n",
            "tmpfs           6.4G     0  6.4G   0% /sys/firmware\n"
          ]
        }
      ]
    },
    {
      "cell_type": "markdown",
      "source": [
        "## Linux filesyste with ls:"
      ],
      "metadata": {
        "id": "4A7by3dczoFk"
      }
    },
    {
      "cell_type": "code",
      "source": [
        "!ls -ltr /"
      ],
      "metadata": {
        "colab": {
          "base_uri": "https://localhost:8080/"
        },
        "id": "MnAJwmSQzKBA",
        "outputId": "2bbc60c0-ee41-42e3-e334-d4125b2c4e1e"
      },
      "execution_count": 6,
      "outputs": [
        {
          "output_type": "stream",
          "name": "stdout",
          "text": [
            "total 448\n",
            "-r-xr-xr-x   1 root root 346012 Jan  1  2000 python-apt.tar.xz\n",
            "drwxr-xr-x   2 root root   4096 Apr 18  2022 home\n",
            "drwxr-xr-x   2 root root   4096 Apr 18  2022 boot\n",
            "lrwxrwxrwx   1 root root      8 Jun 27  2024 sbin -> usr/sbin\n",
            "lrwxrwxrwx   1 root root     10 Jun 27  2024 libx32 -> usr/libx32\n",
            "lrwxrwxrwx   1 root root      9 Jun 27  2024 lib64 -> usr/lib64\n",
            "lrwxrwxrwx   1 root root      9 Jun 27  2024 lib32 -> usr/lib32\n",
            "lrwxrwxrwx   1 root root      7 Jun 27  2024 lib -> usr/lib\n",
            "lrwxrwxrwx   1 root root      7 Jun 27  2024 bin -> usr/bin\n",
            "drwxr-xr-x   2 root root   4096 Jun 27  2024 srv\n",
            "drwxr-xr-x   2 root root   4096 Jun 27  2024 mnt\n",
            "drwxr-xr-x   2 root root   4096 Jun 27  2024 media\n",
            "-rw-r--r--   1 root root  17294 Jul 10  2024 NGC-DL-CONTAINER-LICENSE\n",
            "-rw-r--r--   1 root root   4332 Jul 10  2024 cuda-keyring_1.1-1_all.deb\n",
            "drwxr-xr-x   1 root root   4096 Aug 14 13:14 run\n",
            "drwxrwxr-x  14 root root   4096 Aug 14 13:19 python-apt\n",
            "drwxr-xr-x   1 root root   4096 Aug 14 13:36 content\n",
            "drwxr-xr-x   1 root root   4096 Aug 14 13:49 tools\n",
            "drwxr-xr-x   1 root root   4096 Aug 14 13:50 datalab\n",
            "drwxr-xr-x   1 root root   4096 Aug 14 13:50 var\n",
            "drwxr-xr-x   1 root root   4096 Aug 14 13:51 usr\n",
            "drwxr-xr-x   1 root root   4096 Aug 14 14:07 opt\n",
            "drwxr-xr-x   1 root root   4096 Aug 18 13:27 etc\n",
            "dr-xr-xr-x 199 root root      0 Aug 18 13:27 proc\n",
            "dr-xr-xr-x  13 root root      0 Aug 18 13:27 sys\n",
            "drwxr-xr-x   3 root root   4096 Aug 18 13:27 kaggle\n",
            "drwxr-xr-x   5 root root    360 Aug 18 13:27 dev\n",
            "drwx------   1 root root   4096 Aug 18 13:27 root\n",
            "drwxrwxrwt   1 root root   4096 Aug 18 13:27 tmp\n"
          ]
        }
      ]
    },
    {
      "cell_type": "markdown",
      "source": [
        "## Mounting GDrive:"
      ],
      "metadata": {
        "id": "uhx9xTFN0Psm"
      }
    },
    {
      "cell_type": "code",
      "source": [
        "# Import Colab tools\n",
        "from google.colab import drive\n",
        "drive.mount('/content/drive')"
      ],
      "metadata": {
        "colab": {
          "base_uri": "https://localhost:8080/"
        },
        "id": "fYBq2nkL0UIJ",
        "outputId": "7f71c436-1a46-49c7-d1f2-361162f34c8f"
      },
      "execution_count": 7,
      "outputs": [
        {
          "output_type": "stream",
          "name": "stdout",
          "text": [
            "Mounted at /content/drive\n"
          ]
        }
      ]
    },
    {
      "cell_type": "markdown",
      "source": [
        "## Web scrapping File with wget:"
      ],
      "metadata": {
        "id": "TSolSkuO09UX"
      }
    },
    {
      "cell_type": "code",
      "source": [
        "# Navigate tto the GDrive folder\n",
        "%cd /content/drive/MyDrive"
      ],
      "metadata": {
        "colab": {
          "base_uri": "https://localhost:8080/"
        },
        "id": "D33sNc3m2RqD",
        "outputId": "68cf8d96-0a2a-48bc-af06-a715bde0b9da"
      },
      "execution_count": 8,
      "outputs": [
        {
          "output_type": "stream",
          "name": "stdout",
          "text": [
            "/content/drive/MyDrive\n"
          ]
        }
      ]
    },
    {
      "cell_type": "code",
      "source": [
        "!wget https://raw.githubusercontent.com/wbandabarragan/physics-teaching-data/main/1D-data/books.dat"
      ],
      "metadata": {
        "colab": {
          "base_uri": "https://localhost:8080/"
        },
        "id": "0b0dp0uG2AJ2",
        "outputId": "de1c2186-994c-48b3-d098-3b117ecc5453"
      },
      "execution_count": 9,
      "outputs": [
        {
          "output_type": "stream",
          "name": "stdout",
          "text": [
            "--2025-08-18 13:29:06--  https://raw.githubusercontent.com/wbandabarragan/physics-teaching-data/main/1D-data/books.dat\n",
            "Resolving raw.githubusercontent.com (raw.githubusercontent.com)... 185.199.109.133, 185.199.110.133, 185.199.108.133, ...\n",
            "Connecting to raw.githubusercontent.com (raw.githubusercontent.com)|185.199.109.133|:443... connected.\n",
            "HTTP request sent, awaiting response... 200 OK\n",
            "Length: 114 [text/plain]\n",
            "Saving to: ‘books.dat.1’\n",
            "\n",
            "books.dat.1         100%[===================>]     114  --.-KB/s    in 0s      \n",
            "\n",
            "2025-08-18 13:29:06 (1.12 MB/s) - ‘books.dat.1’ saved [114/114]\n",
            "\n"
          ]
        }
      ]
    },
    {
      "cell_type": "code",
      "source": [
        "!pwd"
      ],
      "metadata": {
        "colab": {
          "base_uri": "https://localhost:8080/"
        },
        "id": "sr_1wPd-2Lj9",
        "outputId": "e515c523-30bf-4f8e-88b5-eb00dfffd633"
      },
      "execution_count": 10,
      "outputs": [
        {
          "output_type": "stream",
          "name": "stdout",
          "text": [
            "/content/drive/MyDrive\n"
          ]
        }
      ]
    },
    {
      "cell_type": "markdown",
      "source": [
        "## List files:"
      ],
      "metadata": {
        "id": "BdP1BnuBzjIa"
      }
    },
    {
      "cell_type": "code",
      "source": [
        "!ls -ltr *.dat"
      ],
      "metadata": {
        "colab": {
          "base_uri": "https://localhost:8080/"
        },
        "id": "d3ucmfBI2Ztt",
        "outputId": "e9c64b9b-66d6-4951-ecc2-9b409a146b6c"
      },
      "execution_count": 11,
      "outputs": [
        {
          "output_type": "stream",
          "name": "stdout",
          "text": [
            "-rw------- 1 root root 114 Aug 14 13:51 books.dat\n"
          ]
        }
      ]
    },
    {
      "cell_type": "code",
      "source": [
        "!cat books.dat"
      ],
      "metadata": {
        "colab": {
          "base_uri": "https://localhost:8080/"
        },
        "id": "BDnVoBj82aZq",
        "outputId": "2931d41f-d30e-42bf-9e8a-c70985a9152e"
      },
      "execution_count": 12,
      "outputs": [
        {
          "output_type": "stream",
          "name": "stdout",
          "text": [
            "N\tPages\tThickness\n",
            "1\t10\t3.0\n",
            "2\t20\t4.5\n",
            "3\t30\t5.5\n",
            "4\t40\t7.0\n",
            "5\t50\t8.0\n",
            "6\t60\t9.0\n",
            "7\t70\t9.5\n",
            "8\t80\t11.1\n",
            "9\t90\t12.0\n",
            "10\t100\t12.9\n",
            "\n"
          ]
        }
      ]
    },
    {
      "cell_type": "code",
      "source": [],
      "metadata": {
        "id": "an7QWAYu3AKq"
      },
      "execution_count": 12,
      "outputs": []
    }
  ]
}