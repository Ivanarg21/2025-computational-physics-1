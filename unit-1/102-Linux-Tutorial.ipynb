{
  "nbformat": 4,
  "nbformat_minor": 0,
  "metadata": {
    "colab": {
      "provenance": [],
      "authorship_tag": "ABX9TyPd3ZvKCRcAHErCV0spaG/n",
      "include_colab_link": true
    },
    "kernelspec": {
      "name": "python3",
      "display_name": "Python 3"
    },
    "language_info": {
      "name": "python"
    }
  },
  "cells": [
    {
      "cell_type": "markdown",
      "metadata": {
        "id": "view-in-github",
        "colab_type": "text"
      },
      "source": [
        "<a href=\"https://colab.research.google.com/github/wbandabarragan/computational-physics-1/blob/main/unit-1/102-Linux-Tutorial.ipynb\" target=\"_parent\"><img src=\"https://colab.research.google.com/assets/colab-badge.svg\" alt=\"Open In Colab\"/></a>"
      ]
    },
    {
      "cell_type": "markdown",
      "source": [
        "# Lecture 102: Linux OS and the need for open source software"
      ],
      "metadata": {
        "id": "N5zjs7T1v5JM"
      }
    },
    {
      "cell_type": "markdown",
      "source": [
        "## About Linux OS\n",
        "\n",
        "- It is an operating system based on Unix, which was developed by Ken Thompson and Dennis Ritchie (at AT&T Bell Laboratories) during the 60’s/70’s.\n",
        "\n",
        "- Unix was highly portable, so it was adopted, copied, and modified by many companies and universities.\n",
        "\n",
        "- The source code was available, but modification and redistribution were restricted and its commercial version was too expensive.\n",
        "\n",
        "- Finnish student Linus Torvalds decides to create a new free operating system kernel called Linux.\n",
        "\n",
        "- Linux released its first version in 1991.\n",
        "\n",
        "## Advantages of Linux OS\n",
        "\n",
        "- Linux OS are free and open source.\n",
        "\n",
        "- You can modify the source code and adapt it to your applications at will.\n",
        "\n",
        "- Linux provides security (much harder to hack, nearly no viruses).\n",
        "\n",
        "- Linux distributions come with an in-built platform to do programming.\n",
        "\n",
        "- There are two types of desktops: KDE and GNOME.\n",
        "\n",
        "## Flavours of Linux OS\n",
        "\n",
        "- You have many options, the most popular ones in physics are:\n",
        "\n",
        "  - Ubuntu\n",
        "\n",
        "  - Fedora\n",
        "\n",
        "  - Debian\n",
        "\n",
        "  - CentOS\n",
        "\n",
        "- Linux can run on virtual machines / co-exist with other OS.\n",
        "\n",
        "- Linux is installed in (pretty much all) large-scale, high-performance supercomputers.\n",
        "\n",
        "- Linux is the OS of cloud servers (Google Colab).\n",
        "\n",
        "- The backend of GitHub relies heavily on Linux.\n"
      ],
      "metadata": {
        "id": "U-i6PIRVSr8G"
      }
    },
    {
      "cell_type": "markdown",
      "source": [
        "## Linux filesystem:\n",
        "\n",
        "* `/`: The **root directory**. The top of the filesystem hierarchy. All other directories and files branch off from here.\n",
        "\n",
        "* `/bin`: Contains essential **binary** executable programs that are required to boot the system and are used by all users (e.g., `ls`, `cp`, `mv`).\n",
        "\n",
        "* `/sbin`: Contains essential **system binaries** required for system administration (e.g., `fdisk`, `reboot`, `shutdown`). These are typically run by the root user.\n",
        "\n",
        "* `/etc`: The \"etcetera\" directory holds **configuration files** for system-wide services and applications.\n",
        "\n",
        "* `/home`: The primary location for **user home directories**. Each user typically has a subdirectory here (e.g., `/home/wladimir`).\n",
        "\n",
        "* `/var`: Contains **variable data**. Files that change frequently during system operation are stored here, such as log files, mail queues, and spools.\n",
        "\n",
        "* `/tmp`: The **temporary file** directory stores data, which are often deleted on system reboot.\n",
        "\n",
        "* `/usr`: Stands for **User System Resources**. This is a major branch of the filesystem containing most of the user applications and files:\n",
        "\n",
        "    * `/usr/bin`: Contains non-essential user commands.\n",
        "\n",
        "    * `/usr/lib`: Holds shared libraries for the programs in `/usr/bin`.\n",
        "\n",
        "    * `/usr/local`: Used for installing **locally compiled software** to prevent conflicts with the rest of the system.\n",
        "\n",
        "* `/dev`: Contains **device files** that represent physical and virtual devices (e.g., hard drives, terminals, printers).\n",
        "\n",
        "* `/opt`: Used for installing **optional or third-party software** that doesn't follow the standard filesystem hierarchy.\n",
        "\n",
        "* `/proc`: A **virtual filesystem** that contains process information and other kernel state data. Files in this directory are not real files on a disk but are dynamically generated by the kernel.\n",
        "\n",
        "* `/boot`: This directory holds files required to **boot the system**, including the Linux kernel and the GRUB bootloader configuration."
      ],
      "metadata": {
        "id": "OhuRZr0eWEQu"
      }
    },
    {
      "cell_type": "markdown",
      "source": [
        "## Basic Linux OS commands\n",
        "\n",
        "1. man — offline manual, get help about any commands\n",
        "2. which — find out where a command is defined.\n",
        "3. <command> --help — Find help on any command\n",
        "4. cd — Change the current directory (folder)\n",
        "5. ls — List files in a directory\n",
        "6. mkdir — Make/create a new directory\n",
        "7. pwd — Print current directory\n",
        "8. cp — Copy files and directories\n",
        "9. rm — Delete files and directories\n",
        "10. cat file.txt — see contents of file.\n",
        "11. head file.txt — see the first 10 lines of a file\n",
        "12. tail file.txt— see the last 10 lines of a file.\n",
        "13. chmod — change permissions of a file or directory for 3 user groups: user (owner) permission, group permission, and other permission.\n",
        "14. diff file1.txt file2.txt— show differences between two files\n",
        "15. file — show the type of a file\n",
        "16. less — browse the contents of a file, exit with q\n",
        "17. locate — find files with names matching a pattern\n",
        "18. touch — Create a new file or update an existing one\n",
        "19. top — See what is going on, what processes are running, exit with q\n",
        "20. ping server — check to see if a server is alive\n",
        "21. df — show free disk space\n",
        "22. du — show disk space usage\n",
        "23. uname -a — information on Linux kernel\n",
        "24. uptime — how long the system has been running\n",
        "25. date — show current date/time\n",
        "\n",
        "\n",
        "\n",
        "##### References and slides:\n",
        "\n",
        "https://www.greenteapress.com/thinkpython/thinkCSpy/html/chap01.html\n",
        "\n",
        "\n",
        "https://github.com/wbandabarragan/computational-physics-1/blob/main/extra-notes/introduction-linux.pdf"
      ],
      "metadata": {
        "id": "4Kz44zYFTaJl"
      }
    },
    {
      "cell_type": "markdown",
      "source": [
        "## Check where we are:"
      ],
      "metadata": {
        "id": "-dwdmU4lv99s"
      }
    },
    {
      "cell_type": "code",
      "execution_count": 1,
      "metadata": {
        "colab": {
          "base_uri": "https://localhost:8080/"
        },
        "id": "voLU13Igvn57",
        "outputId": "d9e6c1d5-b6ec-441c-c377-7b834cdcfd7b"
      },
      "outputs": [
        {
          "output_type": "stream",
          "name": "stdout",
          "text": [
            "/content\n"
          ]
        }
      ],
      "source": [
        "!pwd"
      ]
    },
    {
      "cell_type": "markdown",
      "source": [
        "## Check binaries"
      ],
      "metadata": {
        "id": "iuSS4Oe4po-m"
      }
    },
    {
      "cell_type": "code",
      "source": [
        "!which ls"
      ],
      "metadata": {
        "colab": {
          "base_uri": "https://localhost:8080/"
        },
        "id": "cIBP82gHpr3r",
        "outputId": "98236279-9c74-4917-dced-d4a4d65e2ac6"
      },
      "execution_count": 2,
      "outputs": [
        {
          "output_type": "stream",
          "name": "stdout",
          "text": [
            "/usr/bin/ls\n"
          ]
        }
      ]
    },
    {
      "cell_type": "code",
      "source": [
        "!which python"
      ],
      "metadata": {
        "colab": {
          "base_uri": "https://localhost:8080/"
        },
        "id": "qG1p5PZ0p6Bb",
        "outputId": "bec58590-722a-4415-ee22-59989a44c725"
      },
      "execution_count": 3,
      "outputs": [
        {
          "output_type": "stream",
          "name": "stdout",
          "text": [
            "/usr/local/bin/python\n"
          ]
        }
      ]
    },
    {
      "cell_type": "markdown",
      "source": [
        "## Check Linux kernel information:"
      ],
      "metadata": {
        "id": "UrpIPRSFwEEo"
      }
    },
    {
      "cell_type": "code",
      "source": [
        "!uname -a"
      ],
      "metadata": {
        "colab": {
          "base_uri": "https://localhost:8080/"
        },
        "id": "5VkwVOaZwBaK",
        "outputId": "d17d351e-83e4-49b3-9d27-c7d25fd86b61"
      },
      "execution_count": 4,
      "outputs": [
        {
          "output_type": "stream",
          "name": "stdout",
          "text": [
            "Linux d3e167df344e 6.1.123+ #1 SMP PREEMPT_DYNAMIC Sun Mar 30 16:01:29 UTC 2025 x86_64 x86_64 x86_64 GNU/Linux\n"
          ]
        }
      ]
    },
    {
      "cell_type": "markdown",
      "source": [
        "## Release version:"
      ],
      "metadata": {
        "id": "ES04v1hewxAz"
      }
    },
    {
      "cell_type": "code",
      "source": [
        "!lsb_release -a"
      ],
      "metadata": {
        "colab": {
          "base_uri": "https://localhost:8080/"
        },
        "id": "JEsIoN8twULu",
        "outputId": "035a011c-eb3e-447a-a348-cbdf06a6be32"
      },
      "execution_count": 5,
      "outputs": [
        {
          "output_type": "stream",
          "name": "stdout",
          "text": [
            "No LSB modules are available.\n",
            "Distributor ID:\tUbuntu\n",
            "Description:\tUbuntu 22.04.4 LTS\n",
            "Release:\t22.04\n",
            "Codename:\tjammy\n"
          ]
        }
      ]
    },
    {
      "cell_type": "markdown",
      "source": [
        "## Release version with cat:"
      ],
      "metadata": {
        "id": "dy6iwLdLxIaq"
      }
    },
    {
      "cell_type": "code",
      "source": [
        "!cat /etc/os-release"
      ],
      "metadata": {
        "colab": {
          "base_uri": "https://localhost:8080/"
        },
        "id": "s8QCcVqTw4u8",
        "outputId": "40d0dcde-7ee9-484b-f3ea-77afa47ef4ed"
      },
      "execution_count": 6,
      "outputs": [
        {
          "output_type": "stream",
          "name": "stdout",
          "text": [
            "PRETTY_NAME=\"Ubuntu 22.04.4 LTS\"\n",
            "NAME=\"Ubuntu\"\n",
            "VERSION_ID=\"22.04\"\n",
            "VERSION=\"22.04.4 LTS (Jammy Jellyfish)\"\n",
            "VERSION_CODENAME=jammy\n",
            "ID=ubuntu\n",
            "ID_LIKE=debian\n",
            "HOME_URL=\"https://www.ubuntu.com/\"\n",
            "SUPPORT_URL=\"https://help.ubuntu.com/\"\n",
            "BUG_REPORT_URL=\"https://bugs.launchpad.net/ubuntu/\"\n",
            "PRIVACY_POLICY_URL=\"https://www.ubuntu.com/legal/terms-and-policies/privacy-policy\"\n",
            "UBUNTU_CODENAME=jammy\n"
          ]
        }
      ]
    },
    {
      "cell_type": "markdown",
      "source": [
        "## Disc usage:"
      ],
      "metadata": {
        "id": "Yd-AHJm6zCae"
      }
    },
    {
      "cell_type": "code",
      "source": [
        "!df -h"
      ],
      "metadata": {
        "colab": {
          "base_uri": "https://localhost:8080/"
        },
        "id": "u0pu7S9EyVMQ",
        "outputId": "79901e46-2159-4ccf-b6fb-7e8868a39a9c"
      },
      "execution_count": 7,
      "outputs": [
        {
          "output_type": "stream",
          "name": "stdout",
          "text": [
            "Filesystem      Size  Used Avail Use% Mounted on\n",
            "overlay         108G   39G   70G  36% /\n",
            "tmpfs            64M     0   64M   0% /dev\n",
            "shm             5.8G     0  5.8G   0% /dev/shm\n",
            "/dev/root       2.0G  1.2G  775M  61% /usr/sbin/docker-init\n",
            "/dev/sda1        73G   40G   34G  55% /kaggle/input\n",
            "tmpfs           6.4G 1012K  6.4G   1% /var/colab\n",
            "tmpfs           6.4G     0  6.4G   0% /proc/acpi\n",
            "tmpfs           6.4G     0  6.4G   0% /proc/scsi\n",
            "tmpfs           6.4G     0  6.4G   0% /sys/firmware\n",
            "drive           108G   42G   66G  39% /content/drive\n"
          ]
        }
      ]
    },
    {
      "cell_type": "markdown",
      "source": [
        "## Linux filesyste with ls:"
      ],
      "metadata": {
        "id": "4A7by3dczoFk"
      }
    },
    {
      "cell_type": "code",
      "source": [
        "!ls -ltr /"
      ],
      "metadata": {
        "colab": {
          "base_uri": "https://localhost:8080/"
        },
        "id": "MnAJwmSQzKBA",
        "outputId": "6b14096b-52d6-430b-ff64-30cbf3bfa2fb"
      },
      "execution_count": 8,
      "outputs": [
        {
          "output_type": "stream",
          "name": "stdout",
          "text": [
            "total 448\n",
            "-r-xr-xr-x   1 root root 346012 Jan  1  2000 python-apt.tar.xz\n",
            "drwxr-xr-x   2 root root   4096 Apr 18  2022 home\n",
            "drwxr-xr-x   2 root root   4096 Apr 18  2022 boot\n",
            "lrwxrwxrwx   1 root root      8 Jun 27  2024 sbin -> usr/sbin\n",
            "lrwxrwxrwx   1 root root     10 Jun 27  2024 libx32 -> usr/libx32\n",
            "lrwxrwxrwx   1 root root      9 Jun 27  2024 lib64 -> usr/lib64\n",
            "lrwxrwxrwx   1 root root      9 Jun 27  2024 lib32 -> usr/lib32\n",
            "lrwxrwxrwx   1 root root      7 Jun 27  2024 lib -> usr/lib\n",
            "lrwxrwxrwx   1 root root      7 Jun 27  2024 bin -> usr/bin\n",
            "drwxr-xr-x   2 root root   4096 Jun 27  2024 srv\n",
            "drwxr-xr-x   2 root root   4096 Jun 27  2024 mnt\n",
            "drwxr-xr-x   2 root root   4096 Jun 27  2024 media\n",
            "-rw-r--r--   1 root root  17294 Jul 10  2024 NGC-DL-CONTAINER-LICENSE\n",
            "-rw-r--r--   1 root root   4332 Jul 10  2024 cuda-keyring_1.1-1_all.deb\n",
            "drwxr-xr-x   1 root root   4096 Aug 15 13:14 run\n",
            "drwxrwxr-x  14 root root   4096 Aug 15 13:19 python-apt\n",
            "drwxr-xr-x   1 root root   4096 Aug 15 13:49 tools\n",
            "drwxr-xr-x   1 root root   4096 Aug 15 13:49 datalab\n",
            "drwxr-xr-x   1 root root   4096 Aug 15 13:49 var\n",
            "drwxr-xr-x   1 root root   4096 Aug 15 13:51 usr\n",
            "drwxr-xr-x   1 root root   4096 Aug 15 14:06 opt\n",
            "drwxr-xr-x   1 root root   4096 Aug 18 18:25 etc\n",
            "dr-xr-xr-x  13 root root      0 Aug 18 18:25 sys\n",
            "dr-xr-xr-x 201 root root      0 Aug 18 18:25 proc\n",
            "drwxr-xr-x   3 root root   4096 Aug 18 18:25 kaggle\n",
            "drwxr-xr-x   5 root root    360 Aug 18 18:25 dev\n",
            "drwx------   1 root root   4096 Aug 18 18:26 root\n",
            "drwxr-xr-x   1 root root   4096 Aug 18 18:34 content\n",
            "drwxrwxrwt   1 root root   4096 Aug 18 18:36 tmp\n"
          ]
        }
      ]
    },
    {
      "cell_type": "markdown",
      "source": [
        "## Mounting GDrive:"
      ],
      "metadata": {
        "id": "uhx9xTFN0Psm"
      }
    },
    {
      "cell_type": "code",
      "source": [
        "# Import Colab tools\n",
        "from google.colab import drive\n",
        "drive.mount('/content/drive')"
      ],
      "metadata": {
        "colab": {
          "base_uri": "https://localhost:8080/"
        },
        "id": "fYBq2nkL0UIJ",
        "outputId": "c076f079-3ad1-4a6f-d2d5-62dcce480bd1"
      },
      "execution_count": 9,
      "outputs": [
        {
          "output_type": "stream",
          "name": "stdout",
          "text": [
            "Drive already mounted at /content/drive; to attempt to forcibly remount, call drive.mount(\"/content/drive\", force_remount=True).\n"
          ]
        }
      ]
    },
    {
      "cell_type": "markdown",
      "source": [
        "## Navigating through the filesystem:\n",
        "\n",
        "- ! -> non-persisting wrpapper\n",
        "\n",
        "- % -> persisting"
      ],
      "metadata": {
        "id": "FXXGDLcCjeMB"
      }
    },
    {
      "cell_type": "code",
      "source": [
        "# cd command\n",
        "# Non-=persisting\n",
        "#!cd /content/drive\n",
        "\n",
        "# Perssiting\n",
        "%cd /content/drive\n",
        "!pwd\n"
      ],
      "metadata": {
        "colab": {
          "base_uri": "https://localhost:8080/"
        },
        "id": "wkoEBRIxjdM9",
        "outputId": "ec434db8-1536-4bab-acf1-6dd531430259"
      },
      "execution_count": 10,
      "outputs": [
        {
          "output_type": "stream",
          "name": "stdout",
          "text": [
            "/content/drive\n",
            "/content/drive\n"
          ]
        }
      ]
    },
    {
      "cell_type": "code",
      "source": [
        "!ls -ltr"
      ],
      "metadata": {
        "colab": {
          "base_uri": "https://localhost:8080/"
        },
        "id": "mVzITxspkXVj",
        "outputId": "56b41954-3a94-4808-d569-c382cf4f3076"
      },
      "execution_count": 11,
      "outputs": [
        {
          "output_type": "stream",
          "name": "stdout",
          "text": [
            "total 8\n",
            "drwx------ 4 root root 4096 Aug 18 18:34 Shareddrives\n",
            "drwx------ 2 root root 4096 Aug 18 18:34 MyDrive\n"
          ]
        }
      ]
    },
    {
      "cell_type": "code",
      "source": [
        "%cd MyDrive/\n",
        "!pwd"
      ],
      "metadata": {
        "colab": {
          "base_uri": "https://localhost:8080/"
        },
        "id": "qQKzIwcFll2y",
        "outputId": "b0f5991e-4af6-4a40-de74-126d36a13ada"
      },
      "execution_count": 12,
      "outputs": [
        {
          "output_type": "stream",
          "name": "stdout",
          "text": [
            "/content/drive/MyDrive\n",
            "/content/drive/MyDrive\n"
          ]
        }
      ]
    },
    {
      "cell_type": "code",
      "source": [
        "!ls -ltr *.docx"
      ],
      "metadata": {
        "colab": {
          "base_uri": "https://localhost:8080/"
        },
        "id": "woRAUtc0luK8",
        "outputId": "e0ff3d2e-5abb-4302-db73-99d36119f2b0"
      },
      "execution_count": 13,
      "outputs": [
        {
          "output_type": "stream",
          "name": "stdout",
          "text": [
            "-rw------- 1 root root  75010 Oct 20  2023 '03.08.2023 Ajuste_curricular_MFF_v2.docx'\n",
            "-rw------- 1 root root  14554 Oct 26  2023 'Guía Justificación del Excedente programas aprobados (2).docx'\n",
            "-rw------- 1 root root  76198 Oct 26  2023  Ajuste_curricular_MFF_v3.docx\n",
            "-rw------- 1 root root 283520 Nov 13  2023 'Anexo 2 - Ajuste_curricular_MFF_vfinal.docx'\n",
            "-rw------- 1 root root  43588 Feb  2  2024  Observaciones_MSCFF_v2.docx\n"
          ]
        }
      ]
    },
    {
      "cell_type": "markdown",
      "source": [
        "## Creating directories:"
      ],
      "metadata": {
        "id": "kPXjoXnfmadN"
      }
    },
    {
      "cell_type": "code",
      "source": [
        "!mkdir CP1_unit1"
      ],
      "metadata": {
        "id": "imuO6RyBmZ6_"
      },
      "execution_count": 14,
      "outputs": []
    },
    {
      "cell_type": "code",
      "source": [
        "!ls -ltr CP1_unit1"
      ],
      "metadata": {
        "colab": {
          "base_uri": "https://localhost:8080/"
        },
        "id": "tfb6HhtImtsj",
        "outputId": "3c779531-1b50-4125-d9d3-98ee0c12745c"
      },
      "execution_count": 15,
      "outputs": [
        {
          "output_type": "stream",
          "name": "stdout",
          "text": [
            "total 0\n"
          ]
        }
      ]
    },
    {
      "cell_type": "code",
      "source": [
        "%cd CP1_unit1\n",
        "!pwd"
      ],
      "metadata": {
        "colab": {
          "base_uri": "https://localhost:8080/"
        },
        "id": "nss5DFEJnPCS",
        "outputId": "79c5cf4f-c334-454e-b7a5-10074144d93c"
      },
      "execution_count": 16,
      "outputs": [
        {
          "output_type": "stream",
          "name": "stdout",
          "text": [
            "/content/drive/MyDrive/CP1_unit1\n",
            "/content/drive/MyDrive/CP1_unit1\n"
          ]
        }
      ]
    },
    {
      "cell_type": "markdown",
      "source": [
        "## Web scrapping File with wget:"
      ],
      "metadata": {
        "id": "TSolSkuO09UX"
      }
    },
    {
      "cell_type": "code",
      "source": [
        "!wget https://raw.githubusercontent.com/wbandabarragan/physics-teaching-data/main/1D-data/books.dat"
      ],
      "metadata": {
        "colab": {
          "base_uri": "https://localhost:8080/"
        },
        "id": "0b0dp0uG2AJ2",
        "outputId": "1c6d337e-50d7-497c-d01e-c08e8fc7523f"
      },
      "execution_count": 17,
      "outputs": [
        {
          "output_type": "stream",
          "name": "stdout",
          "text": [
            "--2025-08-18 18:36:35--  https://raw.githubusercontent.com/wbandabarragan/physics-teaching-data/main/1D-data/books.dat\n",
            "Resolving raw.githubusercontent.com (raw.githubusercontent.com)... 185.199.108.133, 185.199.109.133, 185.199.110.133, ...\n",
            "Connecting to raw.githubusercontent.com (raw.githubusercontent.com)|185.199.108.133|:443... connected.\n",
            "HTTP request sent, awaiting response... 200 OK\n",
            "Length: 114 [text/plain]\n",
            "Saving to: ‘books.dat’\n",
            "\n",
            "books.dat           100%[===================>]     114  --.-KB/s    in 0s      \n",
            "\n",
            "2025-08-18 18:36:35 (908 KB/s) - ‘books.dat’ saved [114/114]\n",
            "\n"
          ]
        }
      ]
    },
    {
      "cell_type": "code",
      "source": [
        "!pwd\n"
      ],
      "metadata": {
        "colab": {
          "base_uri": "https://localhost:8080/"
        },
        "id": "sr_1wPd-2Lj9",
        "outputId": "022163ac-2e3b-44be-f8f4-844d79260107"
      },
      "execution_count": 18,
      "outputs": [
        {
          "output_type": "stream",
          "name": "stdout",
          "text": [
            "/content/drive/MyDrive/CP1_unit1\n"
          ]
        }
      ]
    },
    {
      "cell_type": "markdown",
      "source": [
        "## List files:"
      ],
      "metadata": {
        "id": "BdP1BnuBzjIa"
      }
    },
    {
      "cell_type": "code",
      "source": [
        "!ls -ltr *.dat"
      ],
      "metadata": {
        "colab": {
          "base_uri": "https://localhost:8080/"
        },
        "id": "d3ucmfBI2Ztt",
        "outputId": "9f5c89f0-9b39-4d65-a3b8-1a48d26d4487"
      },
      "execution_count": 19,
      "outputs": [
        {
          "output_type": "stream",
          "name": "stdout",
          "text": [
            "-rw------- 1 root root 114 Aug 18 18:36 books.dat\n"
          ]
        }
      ]
    },
    {
      "cell_type": "markdown",
      "source": [
        "## Inspect files:"
      ],
      "metadata": {
        "id": "OTKYNHf6oRMP"
      }
    },
    {
      "cell_type": "code",
      "source": [
        "# Full file inspection\n",
        "!cat books.dat"
      ],
      "metadata": {
        "colab": {
          "base_uri": "https://localhost:8080/"
        },
        "id": "BDnVoBj82aZq",
        "outputId": "c637ef91-e959-42dd-d116-6423d5f30d26"
      },
      "execution_count": 20,
      "outputs": [
        {
          "output_type": "stream",
          "name": "stdout",
          "text": [
            "N\tPages\tThickness\n",
            "1\t10\t3.0\n",
            "2\t20\t4.5\n",
            "3\t30\t5.5\n",
            "4\t40\t7.0\n",
            "5\t50\t8.0\n",
            "6\t60\t9.0\n",
            "7\t70\t9.5\n",
            "8\t80\t11.1\n",
            "9\t90\t12.0\n",
            "10\t100\t12.9\n",
            "\n"
          ]
        }
      ]
    },
    {
      "cell_type": "code",
      "source": [
        "# Inspect the top of the file (n lines with -n)\n",
        "!head -n 2 books.dat"
      ],
      "metadata": {
        "colab": {
          "base_uri": "https://localhost:8080/"
        },
        "id": "an7QWAYu3AKq",
        "outputId": "ec1ffdef-3da4-4894-be93-8a727570e92e"
      },
      "execution_count": 21,
      "outputs": [
        {
          "output_type": "stream",
          "name": "stdout",
          "text": [
            "N\tPages\tThickness\n",
            "1\t10\t3.0\n"
          ]
        }
      ]
    },
    {
      "cell_type": "code",
      "source": [
        "# Bottom tof the file (n lines with -n)\n",
        "\n",
        "!tail -n 3 books.dat"
      ],
      "metadata": {
        "colab": {
          "base_uri": "https://localhost:8080/"
        },
        "id": "RGHy1Bu3o8S7",
        "outputId": "6d711a96-ab52-428f-981a-006ae2b8200c"
      },
      "execution_count": 22,
      "outputs": [
        {
          "output_type": "stream",
          "name": "stdout",
          "text": [
            "9\t90\t12.0\n",
            "10\t100\t12.9\n",
            "\n"
          ]
        }
      ]
    },
    {
      "cell_type": "markdown",
      "source": [
        "## Copying and moving files"
      ],
      "metadata": {
        "id": "n-yIws3Rqbmh"
      }
    },
    {
      "cell_type": "code",
      "source": [
        "# Cpyting files\n",
        "!cp books.dat books2.dat"
      ],
      "metadata": {
        "id": "uAgCaZRAoif8"
      },
      "execution_count": 23,
      "outputs": []
    },
    {
      "cell_type": "code",
      "source": [],
      "metadata": {
        "id": "K2FBLFYhqy22"
      },
      "execution_count": 23,
      "outputs": []
    },
    {
      "cell_type": "code",
      "source": [
        "!ls -ltr"
      ],
      "metadata": {
        "colab": {
          "base_uri": "https://localhost:8080/"
        },
        "id": "wdhD4j_Bqmge",
        "outputId": "b587565a-2e28-43a5-ebab-5dcf0430fc02"
      },
      "execution_count": 24,
      "outputs": [
        {
          "output_type": "stream",
          "name": "stdout",
          "text": [
            "total 1\n",
            "-rw------- 1 root root 114 Aug 18 18:36 books.dat\n",
            "-rw------- 1 root root 114 Aug 18 18:36 books2.dat\n"
          ]
        }
      ]
    },
    {
      "cell_type": "markdown",
      "source": [
        "## Rename file"
      ],
      "metadata": {
        "id": "eWuuLtf4qxvR"
      }
    },
    {
      "cell_type": "code",
      "source": [
        "!mv books2.dat books_v2.dat"
      ],
      "metadata": {
        "id": "7OLqADj-qrUW"
      },
      "execution_count": 25,
      "outputs": []
    },
    {
      "cell_type": "code",
      "source": [
        "!ls -ltr"
      ],
      "metadata": {
        "colab": {
          "base_uri": "https://localhost:8080/"
        },
        "id": "xgd4d7Ucq3CR",
        "outputId": "e84f853e-4a24-45fd-ba45-4cf016831e6d"
      },
      "execution_count": 26,
      "outputs": [
        {
          "output_type": "stream",
          "name": "stdout",
          "text": [
            "total 1\n",
            "-rw------- 1 root root 114 Aug 18 18:36 books.dat\n",
            "-rw------- 1 root root 114 Aug 18 18:36 books_v2.dat\n"
          ]
        }
      ]
    },
    {
      "cell_type": "markdown",
      "source": [
        "## Adding & removing directories and files:"
      ],
      "metadata": {
        "id": "8yZY0VccrGQN"
      }
    },
    {
      "cell_type": "code",
      "source": [
        "# Create a temporary directory\n",
        "!mkdir tmp"
      ],
      "metadata": {
        "id": "5TU0UgBDq4Yi"
      },
      "execution_count": 27,
      "outputs": []
    },
    {
      "cell_type": "code",
      "source": [
        "!ls -ltr"
      ],
      "metadata": {
        "colab": {
          "base_uri": "https://localhost:8080/"
        },
        "id": "QbDF7DUGrSfg",
        "outputId": "5d75f422-00b6-4e88-8c36-e773ef07b1c2"
      },
      "execution_count": 28,
      "outputs": [
        {
          "output_type": "stream",
          "name": "stdout",
          "text": [
            "total 5\n",
            "-rw------- 1 root root  114 Aug 18 18:36 books.dat\n",
            "-rw------- 1 root root  114 Aug 18 18:36 books_v2.dat\n",
            "drwx------ 2 root root 4096 Aug 18 18:36 tmp\n"
          ]
        }
      ]
    },
    {
      "cell_type": "code",
      "source": [
        "# Move file into that directory\n",
        "!cp books_v2.dat books_v3.dat"
      ],
      "metadata": {
        "id": "6JwE8fJ1rWjB"
      },
      "execution_count": 29,
      "outputs": []
    },
    {
      "cell_type": "code",
      "source": [
        "!ls -ltr"
      ],
      "metadata": {
        "colab": {
          "base_uri": "https://localhost:8080/"
        },
        "id": "-Q2sNN3_riS3",
        "outputId": "090aa97f-6fbb-4862-a17e-2d374a1c33b6"
      },
      "execution_count": 30,
      "outputs": [
        {
          "output_type": "stream",
          "name": "stdout",
          "text": [
            "total 6\n",
            "-rw------- 1 root root  114 Aug 18 18:36 books.dat\n",
            "-rw------- 1 root root  114 Aug 18 18:36 books_v2.dat\n",
            "drwx------ 2 root root 4096 Aug 18 18:36 tmp\n",
            "-rw------- 1 root root  114 Aug 18 18:36 books_v3.dat\n"
          ]
        }
      ]
    },
    {
      "cell_type": "code",
      "source": [
        "# MOve the file to /tmp\n",
        "!mv books_v3.dat tmp/."
      ],
      "metadata": {
        "id": "DbVzFvD1rjcz"
      },
      "execution_count": 31,
      "outputs": []
    },
    {
      "cell_type": "code",
      "source": [
        "!ls -ltr tmp/."
      ],
      "metadata": {
        "colab": {
          "base_uri": "https://localhost:8080/"
        },
        "id": "ouRTm6QyrljV",
        "outputId": "5aacf659-8a75-4ba8-ac9b-4f6504cf041c"
      },
      "execution_count": 32,
      "outputs": [
        {
          "output_type": "stream",
          "name": "stdout",
          "text": [
            "total 1\n",
            "-rw------- 1 root root 114 Aug 18 18:36 books_v3.dat\n"
          ]
        }
      ]
    },
    {
      "cell_type": "code",
      "source": [
        "!pwd"
      ],
      "metadata": {
        "colab": {
          "base_uri": "https://localhost:8080/"
        },
        "id": "9FbcesHyrsf9",
        "outputId": "bcff108c-54c2-4d0b-9b1b-927541690133"
      },
      "execution_count": 33,
      "outputs": [
        {
          "output_type": "stream",
          "name": "stdout",
          "text": [
            "/content/drive/MyDrive/CP1_unit1\n"
          ]
        }
      ]
    },
    {
      "cell_type": "code",
      "source": [
        "#Remove the v2 file\n",
        "!rm books_v2.dat"
      ],
      "metadata": {
        "id": "eOV3T2QUr6d6"
      },
      "execution_count": 34,
      "outputs": []
    },
    {
      "cell_type": "markdown",
      "source": [
        "## Coping or removing folders:"
      ],
      "metadata": {
        "id": "2BcgiHMrspNI"
      }
    },
    {
      "cell_type": "code",
      "source": [
        "# Cuplicate the folder\n",
        "!cp -r tmp tmp2"
      ],
      "metadata": {
        "id": "sMO99TvPr_7Z"
      },
      "execution_count": 35,
      "outputs": []
    },
    {
      "cell_type": "code",
      "source": [
        "!ls -ltr tmp2/"
      ],
      "metadata": {
        "colab": {
          "base_uri": "https://localhost:8080/"
        },
        "id": "aO2QtHSoss6q",
        "outputId": "cc8e13d4-ef38-42f2-869e-d0a8e4fcac57"
      },
      "execution_count": 36,
      "outputs": [
        {
          "output_type": "stream",
          "name": "stdout",
          "text": [
            "total 1\n",
            "-rw------- 1 root root 114 Aug 18 18:36 books_v3.dat\n"
          ]
        }
      ]
    },
    {
      "cell_type": "code",
      "source": [
        "# Very carefully we remove the folder\n",
        "#!rm tmp2 # rm: cannot remove 'tmp2': Is a directory\n",
        "\n",
        "!rm -r tmp2"
      ],
      "metadata": {
        "id": "vQAuBCxFs3IJ"
      },
      "execution_count": 37,
      "outputs": []
    },
    {
      "cell_type": "code",
      "source": [
        "!ls -ltr"
      ],
      "metadata": {
        "colab": {
          "base_uri": "https://localhost:8080/"
        },
        "id": "Nd2Y4xwttXui",
        "outputId": "cb3d9c4a-f7b8-469e-a095-8a297768006e"
      },
      "execution_count": 38,
      "outputs": [
        {
          "output_type": "stream",
          "name": "stdout",
          "text": [
            "total 5\n",
            "-rw------- 1 root root  114 Aug 18 18:36 books.dat\n",
            "drwx------ 2 root root 4096 Aug 18 18:36 tmp\n"
          ]
        }
      ]
    },
    {
      "cell_type": "markdown",
      "source": [
        "## Compare files:"
      ],
      "metadata": {
        "id": "6QKP-O1Qv3DR"
      }
    },
    {
      "cell_type": "code",
      "source": [
        "# If you see nothing, that means files are the same\n",
        "\n",
        "!diff books.dat ./tmp/books_v3.dat"
      ],
      "metadata": {
        "id": "Tyag2p1-tgKo"
      },
      "execution_count": 41,
      "outputs": []
    },
    {
      "cell_type": "markdown",
      "source": [
        "## File permisions in Linux\n",
        "\n",
        "- Every file and directory in Linux has associated permissions that control who can **read** (r), **write** (w), or **execute** (x) it.\n",
        "\n",
        "- These permissions are assigned to three types of users:\n",
        "\n",
        " - the **user** (file owner, **u**),\n",
        " - the **group** (people working alongside the owner, **g**), and\n",
        " - **others** (everyone else, **o**).\n",
        " - all (user, group, and others, **a**)\n",
        "\n",
        "\n",
        "- To check permisions you can run: ``ls -ltr``\n",
        "\n",
        "### Example:\n"
      ],
      "metadata": {
        "id": "WYcpwH2py7vr"
      }
    },
    {
      "cell_type": "code",
      "source": [
        "!ls -ltr"
      ],
      "metadata": {
        "colab": {
          "base_uri": "https://localhost:8080/"
        },
        "id": "i6Yx8wdQylVq",
        "outputId": "9a18cfa8-38eb-49a6-e5fe-c50be52ce1ec"
      },
      "execution_count": 42,
      "outputs": [
        {
          "output_type": "stream",
          "name": "stdout",
          "text": [
            "total 5\n",
            "-rw------- 1 root root  114 Aug 18 18:36 books.dat\n",
            "drwx------ 2 root root 4096 Aug 18 18:36 tmp\n"
          ]
        }
      ]
    },
    {
      "cell_type": "markdown",
      "source": [
        "Here, you can see:\n",
        "\n",
        "```\n",
        "-rw------- 1 root root  114 Aug 18 18:36 books.dat\n",
        "```\n",
        "\n",
        "\n",
        "- The **first character** indicates the file type:\n",
        "    - `-` for a regular file.\n",
        "    - `d` for a directory.\n",
        "    - `l` for a symbolic link.\n",
        "\n",
        "- The **next nine characters** are divided into three sets:\n",
        "\n",
        "    * **User** permissions (characters 2-4): `rw-`\n",
        "\n",
        "    * **Group** permissions (characters 5-7): `---`\n",
        "\n",
        "    * **Others** permissions (characters 8-10): `---`\n",
        "\n",
        "\n",
        "- Each letter within a set represents a specific permission:\n",
        "\n",
        "  - **`r` (read):** Allows viewing the file's contents or listing a directory's contents.\n",
        "  - **`w` (write):** Allows modifying, saving, or deleting the file, or creating/deleting files within a directory.\n",
        "  - **`x` (execute):** Allows running a file as a program or entering a directory.\n",
        "  - A hyphen (`-`) in place of a letter means that permission is not granted.\n"
      ],
      "metadata": {
        "id": "bsoJcBroePkZ"
      }
    },
    {
      "cell_type": "markdown",
      "source": [
        "## Modifying file permisions with ``chmod``\n",
        "\n",
        "- You can modify file permissions using the `chmod` command.\n",
        "\n",
        "- There are two common methods for using `chmod`:\n",
        "\n",
        "### A. Symbolic Method\n",
        "\n",
        "This method uses letters and symbols to add (`+`), remove (`-`), or set (`=`) permissions.\n",
        "\n",
        "- `chmod a+r filename` adds read permission for all (u, g, o).\n",
        "\n",
        "- `chmod u+w filename` adds write permission for the user.\n",
        "\n",
        "- `chmod o-r filename` removes read permission for others.\n",
        "\n",
        "- `chmod g=rw filename` sets group permissions to only read and write.\n",
        "\n",
        "#### Examples (this does not work on Colab, test it on the terminal in your Linux OS):\n",
        "\n",
        "```\n",
        "ls -ltr\n",
        "-rw------- 1 root root  114 Aug 18 18:36 books.dat\n",
        "pwd\n",
        "```\n",
        "\n",
        "### 1. Add read permissions to all:\n",
        "\n",
        "```\n",
        "chmod a+r /content/drive/MyDrive/CP1_unit1/books.dat\n",
        "ls -ltr\n",
        "-rw-r--r-- 1 root root  114 Aug 18 18:36 books.dat\n",
        "```\n",
        "\n",
        "### 2. Add execute permissions to the user:\n",
        "\n",
        "```\n",
        "chmod u+x /content/drive/MyDrive/CP1_unit1/books.dat\n",
        "ls -ltr\n",
        "-rwxr--r-- 1 root root  114 Aug 18 18:37 books.dat\n",
        "```\n",
        "\n",
        "### 3. Remove read permissions to others:\n",
        "\n",
        "```\n",
        "chmod o-r /content/drive/MyDrive/CP1_unit1/books.dat\n",
        "ls -ltr\n",
        "-rwxr----- 1 root root  114 Aug 18 18:38 books.dat\n",
        "```\n",
        "\n",
        "### B. Numeric (Octal) Method\n",
        "\n",
        "- This method uses a three-digit number to represent the permissions for the user, group, and others.\n",
        "\n",
        "- Each digit is a sum of the numeric values for `r` (4), `w` (2), and `x` (1):\n",
        "\n",
        " - `r` (read) = 4\n",
        " - `w` (write) = 2\n",
        " - `x` (execute) = 1\n",
        "\n",
        "- You need to sum the values to set the desired permissions. For example, `rwx` is `4+2+1=7`, `rw-` is `4+2=6`, and `r-x` is `4+1=5`.\n",
        "\n",
        "**Examples:**\n",
        "\n",
        "### 1. Set 754 permissions:\n",
        "\n",
        "```\n",
        "chmod 754 /content/drive/MyDrive/CP1_unit1/books.dat\n",
        "ls -ltr\n",
        "-rwxr-xr-- 1 root root  114 Aug 18 18:42 books.dat\n",
        "```\n",
        "\n",
        "\n",
        "### 2. Set 644 permissions:\n",
        "\n",
        "```\n",
        "chmod 644 /content/drive/MyDrive/CP1_unit1/books.dat\n",
        "ls -ltr\n",
        "-rw-r--r-- 1 root root  114 Aug 18 18:44 books.dat\n",
        "```\n"
      ],
      "metadata": {
        "id": "QBWPsBE7gvmA"
      }
    }
  ]
}