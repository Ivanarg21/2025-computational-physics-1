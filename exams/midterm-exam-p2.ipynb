{
 "cells": [
  {
   "cell_type": "markdown",
   "id": "245f2741-9b42-4e80-a78e-f3146e311b17",
   "metadata": {},
   "source": [
    "# Midterm Exam (part 2) - Computational Physics I\n",
    "\n",
    "### Date: Thursday 3 April 2025\n",
    "### Credits: 10 points\n",
    "\n",
    "### Duration: 1 hour"
   ]
  },
  {
   "cell_type": "markdown",
   "id": "696a0787-f6e9-4dfa-bf4e-4ea8d42bfceb",
   "metadata": {},
   "source": [
    "## Name: "
   ]
  },
  {
   "cell_type": "markdown",
   "id": "62854cf1-5f89-4106-ba5a-5b0d1fe3c1f1",
   "metadata": {},
   "source": [
    "### Instructions:\n",
    "\n",
    "- When you finish, please send me the **.ipynb** file via email to wbanda@yachaytech.edu.ec\n",
    "\n",
    "\n",
    "- The exam is individual. Please include your name in the notebook.\n",
    "\n",
    "\n",
    "- Within a **single python notebook**, solve the following problems:"
   ]
  },
  {
   "cell_type": "markdown",
   "id": "ac8864de-ae9b-48b8-97ef-d81620f98902",
   "metadata": {},
   "source": [
    "## 5. I/O and regression: Larmor precession (5 points) \n",
    "\n",
    "This problem consists of analysing the relationship between magnetic field strength and Larmor precession frequency, a fundamental principle in Nuclear Magnetic Resonance (NMR). To this end, a simulated dataset was generated, mimicking experimental measurements, and stored in a CSV file. This dataset contains pairs of values: **magnetic field strength (in Tesla)** and the corresponding observed **Larmor frequency (in Hertz)**. The goal is to investigate the relationship predicted by the **Larmor equation**.\n",
    "\n",
    "#### Data:\n",
    "https://github.com/wbandabarragan/physics-teaching-data/blob/main/1D-data/larmor_precession_data.csv\n",
    "\n",
    "a) Create a **pandas-based python I/O function** that opens the above data file and returns $2$ arrays, one for the magnetic field strength and one for the Larmor frequency.\n",
    "\n",
    "b) Call your I/O function and make **a high-quality labeled plot** of Larmor frequency (in the Y axis) versus magnetic field strength (in the X axis).\n",
    "\n",
    "c) Write down and use a physical model (motivated by quantum mechanics) to carry out a regression and constrain any free parameters in the model.\n",
    "\n",
    "d) Report the results from your regression, i.e. the best-fit value for the free parameter/s with respective uncertainty/ies.\n",
    "\n",
    "e) Make a plot showing the empirical data and the best-fit model obtained from your regression.  Based on your analysis, can you infer the particle assumed for the simulated data?\n",
    "\n",
    "\n",
    "##### Reference for Larmor precession: https://github.com/wbandabarragan/quantum-mechanics-1/blob/main/unit-4/Lecture-Notes-UC4.pdf"
   ]
  },
  {
   "cell_type": "markdown",
   "id": "df34b849-5304-47e9-8dfb-196ae4ceacd7",
   "metadata": {},
   "source": [
    "## 6. Image processing: Scanning Electron Microscope of Escherichia coli (5 points)\n",
    "\n",
    "This problem consists of analysing the reduction of the bacteria Escherichia coli (E. coli) after treatment with Zinc oxide (ZnO) nanoparticles. The images provided below were obtained from a Scanning Electron Microscope (SEM), before and after 5 hours of treatment with ZnO. One pixel of  the image has an area of $0.02^2\\mu m^2$.\n",
    "\n",
    "#### SEM image before ZnO treatment:\n",
    "https://github.com/wbandabarragan/physics-teaching-data/blob/main/2D-data/bacteria_before.jpg\n",
    "\n",
    "#### SEM image after ZnO treatment:\n",
    "https://github.com/wbandabarragan/physics-teaching-data/blob/main/2D-data/bacteria_after.jpg\n",
    "\n",
    "To analyse how effective this antibacterial treatment is, carry out the following analysis in python:\n",
    "\n",
    "a) Create a python function that reads in an image file and returns one its channels as an array.\n",
    "\n",
    "b) Call your function from (a), and:\n",
    "\n",
    "- Make a 2-panel figure showing the before and after SEM images.\n",
    "- Make a 2-panel figure showing the before and after pixel histograms of the SEM images.\n",
    "\n",
    "c) Create a python function that isolates the area covered by the E. coli bacteria from the background. Your function should read in an image channel array and return a cleaned binary image array with zeroes in the background and ones in the E. coli area.\n",
    "\n",
    "d) Call your function from (c), and:\n",
    "\n",
    "- Make a 2-panel figure showing the before and after binary images.\n",
    "- Make a 2-panel figure showing the before and after pixel histograms of the binary images.\n",
    "\n",
    "e) Using your binary images, calculate the following:\n",
    "\n",
    "- The total area in pixels and physical units covered by the E. coli bateria before and after treatment.\n",
    "- The ratio between such areas, how effective is the antibacterial treatment with ZnO nanoparticles?\n",
    "\n",
    "##### SEM images reference: Zhang et al. 2007, https://link.springer.com/article/10.1007/s11051-006-9150-1"
   ]
  }
 ],
 "metadata": {
  "kernelspec": {
   "display_name": "Python 3 (ipykernel)",
   "language": "python",
   "name": "python3"
  },
  "language_info": {
   "codemirror_mode": {
    "name": "ipython",
    "version": 3
   },
   "file_extension": ".py",
   "mimetype": "text/x-python",
   "name": "python",
   "nbconvert_exporter": "python",
   "pygments_lexer": "ipython3",
   "version": "3.9.18"
  }
 },
 "nbformat": 4,
 "nbformat_minor": 5
}
