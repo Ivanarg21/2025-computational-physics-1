{
 "cells": [
  {
   "cell_type": "markdown",
   "id": "69d22fea-98e5-4825-9fa8-3cc8305646a9",
   "metadata": {},
   "source": [
    "# Final Exam (part 2) - Computational Physics I\n",
    "\n",
    "### Deadline: Thursday 5 June 2025 (by 23h59)\n",
    "### Credits: 10 points\n",
    "\n",
    "### Please keep the structure provided below and submit an organised notebook with clear answers to each item."
   ]
  },
  {
   "cell_type": "markdown",
   "id": "3aa214fc-b1ea-4ed8-858b-d76537af3c89",
   "metadata": {},
   "source": [
    "## Name:"
   ]
  },
  {
   "cell_type": "markdown",
   "id": "98486734-5495-49fe-add0-01aa867627c1",
   "metadata": {},
   "source": [
    "## 2. Monte Carlo simulations: Cosmology (10 points) \n",
    "\n",
    "Supernovae type Ia (SN Ia) are very energetic astronomical explosions, which have a very similar intrinsic known brightness (i.e. they have a very similar absolute magnitude $M$), so they can be used as cosmological \"standard candles\" to measure the luminosity distance, $d$, as a function of redshift, $z$:\n",
    "\n",
    "\\begin{equation}\n",
    "d=\\frac{cz}{H_0}\n",
    "\\end{equation}\n",
    "\n",
    "where $c$ is the speed of light and $H_0$ is the Hubble constant. Since they have similar absolute magnitudes $M$, we can estimate distances by comparing how bright or faint they appear on the sky as indicated by the measured apparent magnitude, $m$, which does differ:\n",
    "\n",
    "\\begin{equation}\n",
    "m=M+5\\log\\left(\\frac{d}{\\rm Mpc}\\right)+25\n",
    "\\end{equation}\n",
    "\n",
    "Higher $m$ values imply objects are fainter; lower $m$ values imply objects are brighter. Same for $M$. Unfortunately, selection effects associated with instrumental limitations can bias our measurements. For example, far-away SN Ia can be so faint that they may not be detectable, so the sample will be biased towards brighter objects. In the equation above $\\rm Mpc$ stands for Mega parsecs, which are distance units used in cosmology.\n",
    "\n",
    "**Therefore, to understand selection bias, we want to simulate this effect using a Monte Carlo simulation.**\n",
    "\n",
    "The purpose of this problem is to determine the bias as a function of redshift for a sample of objects (SN Ia) via a Monte Carlo calculation. To set up your simulation, assume that:\n",
    "\n",
    "- $H_0 = 70\\,\\rm km\\,s^{-1}\\,Mpc^{-1}$\n",
    "\n",
    "- the absolute magnitude of SN Ia $M=-19.5\\,\\rm mag$.\n",
    "\n",
    "- your supernova search will be able to detect $100$% of objects as faint as $m=18.5\\,\\rm mag$, and none fainter. \n",
    "\n",
    "(a) Write a python function to generate $N$ Gaussian random variables with mean $\\langle M\\rangle=-19.5\\,\\rm mag$ and different standard deviations ($\\sigma_M=0.1$, $0.3$, and $0.6\\,\\rm mag$).\n",
    "\n",
    "(b) Make $3$ plots of $M$ versus $N$, where $N$ is the number of generated objects, one for each $\\sigma_M$.\n",
    "\n",
    "(c) Write a python function to calculate and return:\n",
    "\n",
    "- the luminosity distances, $d$, in $\\rm Mpc$ given redshifts between $z=0$ and $z=0.1$.\n",
    "\n",
    "- the apparent magnitudes, $m$, for the same redshift range.\n",
    "\n",
    "(d) Write a python function that:\n",
    "\n",
    "- reads the resulting $m$ values from item (c),\n",
    "\n",
    "- removes values with apparent magnitudes larger than the detection threshold $m=18.5\\,\\rm mag$, \n",
    "\n",
    "- re-calculates the mean observed magnitude $\\langle M_{\\rm observed}\\rangle$ of the SN Ia from the actually detected objects for the same redshift range.\n",
    "\n",
    "- returns the bias as a function of redshift. The bias in $M$ can be calculated with:\n",
    "\n",
    "\\begin{equation}\n",
    "|\\Delta M|=|\\langle M_{\\rm observed}\\rangle  - \\langle M\\rangle|\n",
    "\\end{equation}\n",
    "\n",
    "(e) Make $3$ plots of $m$ versus $N$, where $N$ is the number of generated objects, one for each $\\sigma_M=0.1$, $0.3$, and $0.6\\,\\rm mag$, showing the detection threshold and colouring distinctly the objects that would not be detected.\n",
    "\n",
    "(f) Make $3$ plots of $|\\Delta M|$ versus $z$, one for each $\\sigma_M=0.1$, $0.3$, and $0.6\\,\\rm mag$.\n",
    "\n",
    "(g) Based on your results, at which redshift does selection bias become important in each case?"
   ]
  }
 ],
 "metadata": {
  "kernelspec": {
   "display_name": "Python 3 (ipykernel)",
   "language": "python",
   "name": "python3"
  },
  "language_info": {
   "codemirror_mode": {
    "name": "ipython",
    "version": 3
   },
   "file_extension": ".py",
   "mimetype": "text/x-python",
   "name": "python",
   "nbconvert_exporter": "python",
   "pygments_lexer": "ipython3",
   "version": "3.9.18"
  }
 },
 "nbformat": 4,
 "nbformat_minor": 5
}
