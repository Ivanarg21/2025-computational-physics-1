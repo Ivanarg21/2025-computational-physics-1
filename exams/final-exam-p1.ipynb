{
 "cells": [
  {
   "cell_type": "markdown",
   "id": "69d22fea-98e5-4825-9fa8-3cc8305646a9",
   "metadata": {},
   "source": [
    "# Final Exam (part 1) - Computational Physics I\n",
    "\n",
    "### Deadline: Thursday 5 June 2025 (by 23h59)\n",
    "### Credits: 10 points\n",
    "\n",
    "### Please keep the structure provided below and submit an organised notebook with clear answers to each item."
   ]
  },
  {
   "cell_type": "markdown",
   "id": "3aa214fc-b1ea-4ed8-858b-d76537af3c89",
   "metadata": {},
   "source": [
    "## Name:"
   ]
  },
  {
   "attachments": {},
   "cell_type": "markdown",
   "id": "451065d7-ea54-41bb-91d0-191dcb6ff834",
   "metadata": {},
   "source": [
    "## 1. Fourier analysis: removing Herringbone MRI artifacts\n",
    "\n",
    "This problem consist of using Fourier analysis to remove undesired Herringbone artifacts from magnetic resonance images (MRI).\n",
    "\n",
    "The file provided below **herringbone-mri-artifact.jpg** contains a brain MRI image affected by the Herringbone artifact. This artifact can be produced by electromagnetic spikes by gradient coils, a fluctuating power supply, or radiofrequency pulse discrepancies during MRI scanning. In real space, the regularly spaced stripes resemble the appearance of a fabric with a herringbone pattern (which gives the artifact its name). In this image, the artifact covers the entire image with multiple diagonal stripes, which would be seen as spike artifacts in Fourier space. Your task is to remove them.\n",
    "\n",
    "#### Download the image file:\n",
    "https://github.com/wbandabarragan/physics-teaching-data/blob/main/2D-data/herringbone-mri-artifact.jpg\n",
    "\n",
    "#### Reference:\n",
    "Case courtesy of Frank Gaillard, <a href=\"https://radiopaedia.org/?lang=us\">Radiopaedia.org</a>. From the case <a href=\"https://radiopaedia.org/cases/19695?lang=us\">rID: 19695</a>\n",
    "\n",
    "#### Image I/O:\n",
    "\n",
    "(a) Inspect the file. Then, write a python function that reads the data from the **herringbone-mri-artifact.jpg** file, and returns its 3 layers (channels) as numpy arrays.\n",
    "\n",
    "(b) Call your function, select a single channel and make a map of it. Identify and label the Herringbone artifacts on the image using small arrows.\n",
    "\n",
    "\n",
    "#### 2D Fourier transform:\n",
    "\n",
    "(c) Create a function that Fourier transforms this image and returns the Fourier image and the correct frequencies.\n",
    "\n",
    "(d) Call your function in (c), and make a two-panel figure with the original image on the left and a labeled 2D plot of its Fourier image on the right. Identify and label the Herringbone artifacts on the Fourier image.\n",
    "\n",
    "(e) Briefly comment, how do the image artifacts look in Fourier space? \n",
    "\n",
    "#### Masking and filtering:\n",
    "\n",
    "(f) Create an appropriate mask for the Fourier image that matches the features associated with the Herringbone artifacts. Plot the mask.\n",
    "\n",
    "(g) Use your mask from (f) to remove the Herringbone artifacts from the Fourier image.\n",
    "\n",
    "(h) Inverse Fourier transform the masked Fourier image and make a two-panel figure showing the original image on the left and the new filtered image (without the Herringbone artifacts) on the right.\n",
    "\n",
    "#### Artifact-free image:\n",
    "\n",
    "(i) Create a function that combines all the previous steps. The function should receive an input image channel, apply the Fourier filter to it and return the original and the filtered channel images. Call and apply your filter function to the other two channels of the **herringbone-mri-artifact.jpg** image.\n",
    "\n",
    "(j) Using the output clean images from (i), reconstruct the 3-layered image and make a two panel figure showing the original 3-layered image and your new artifact-free 3-layered image. Briefly comment on your results."
   ]
  },
  {
   "cell_type": "code",
   "execution_count": null,
   "id": "0829881b-f377-4d2b-aca7-51e720f99867",
   "metadata": {},
   "outputs": [],
   "source": []
  }
 ],
 "metadata": {
  "kernelspec": {
   "display_name": "Python 3 (ipykernel)",
   "language": "python",
   "name": "python3"
  },
  "language_info": {
   "codemirror_mode": {
    "name": "ipython",
    "version": 3
   },
   "file_extension": ".py",
   "mimetype": "text/x-python",
   "name": "python",
   "nbconvert_exporter": "python",
   "pygments_lexer": "ipython3",
   "version": "3.9.18"
  }
 },
 "nbformat": 4,
 "nbformat_minor": 5
}
