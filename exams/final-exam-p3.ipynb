{
 "cells": [
  {
   "cell_type": "markdown",
   "id": "69d22fea-98e5-4825-9fa8-3cc8305646a9",
   "metadata": {},
   "source": [
    "# Final Exam (part 3) - Computational Physics I\n",
    "\n",
    "### Deadline: Thursday 5 June 2025 (by 23h59)\n",
    "### Credits: 10 points\n",
    "\n",
    "### Please keep the structure provided below and submit an organised notebook with clear answers to each item."
   ]
  },
  {
   "cell_type": "markdown",
   "id": "3aa214fc-b1ea-4ed8-858b-d76537af3c89",
   "metadata": {},
   "source": [
    "## Name:"
   ]
  },
  {
   "cell_type": "markdown",
   "id": "98486734-5495-49fe-add0-01aa867627c1",
   "metadata": {},
   "source": [
    "## 3. Wavelet analysis of seismic waves (10 points) \n",
    "\n",
    "Seismic signals recorded at a single station typically comprise a superposition of different wave types, primarily **P-waves** (due to compression), **S-waves** (due to shear), and **surface waves** (the ones that cause ground shaking). These waves propagate through the Earth at different velocities and possess distinct characteristic frequencies, making their isolation crucial for accurate seismic event analysis and hazard assessment.\n",
    "\n",
    "#### Dataset:\n",
    "\n",
    "Please download the following data file:\n",
    "https://github.com/wbandabarragan/physics-teaching-data/blob/main/1D-data/seismic_signals.csv\n",
    "\n",
    "This dataset contains a mock time series of seismic waveform amplitude from two different seismic stations. The time is recorded in seconds ($\\rm s$) and the wave amplitudes are in units of $\\rm mm/s$.\n",
    "\n",
    "\n",
    "#### Tasks:\n",
    "\n",
    "The purpose of this problem is to develop a python pipeline (**using python functions**) that effectively isolates P-, S-, and surface waves from a given single-component seismic waveform using **wavelet transforms**, for which you need to carry out the following tasks:\n",
    "\n",
    "(a) Read the data file and carry out a time-frequency analysis of the seismic signal of the first station using appropriate wavelet transforms. Compute the scalogram (i.e., the amplitude as a function of time and frequency) and the corresponding real frequencies.\n",
    "\n",
    "(b) Make two plots of the resulting 2D scalogram: one projection plot in 2D and another one as a 3D surface plot, ensuring both visualisations display the correct frequencies versus time. These plots are essential for visualising the frequency content of the different wave arrivals over time, which will inform the subsequent wave isolation process.\n",
    "\n",
    "(c) Based on the insights gained from your scalogram plots, provide the approximate frequency ranges associated with the P-waves, S-waves, and surface waves observed in the seismic signal. Justify your identification with reference to the visual characteristics of the scalogram.\n",
    "\n",
    "(d) Before performing a Discrete Wavelet Transform (DWT), determine the sampling frequency of the seismic signal. Then, for a chosen DWT decomposition level, calculate and state the theoretical frequency ranges corresponding to the approximation and all relevant detail coefficients.\n",
    " \n",
    "(e) Apply a suitable DWT to the seismic signal to decompose it into approximation and detail coefficients at multiple levels. The choice of wavelet family and decomposition level should be justified based on the characteristic frequencies of the seismic waves identified in the previous steps.\n",
    "\n",
    "(f) Based on the understanding that different seismic wave types occupy distinct frequency bands (e.g., P-waves tend to have higher frequencies, S-waves mid-range, and surface waves lower frequencies), strategically manipulate the wavelet coefficients to reconstruct the isolated wave types. Specifically:\n",
    "\n",
    "- **P-waves:** Reconstruct P-waves primarily from higher-frequency detail coefficients.\n",
    "- **S-waves:** Reconstruct S-waves primarily from mid-frequency detail coefficients.\n",
    "- **Surface Waves:** Reconstruct surface waves primarily from the lowest-frequency approximation coefficients.\n",
    "\n",
    "(g) Reconstruct the isolated P-, S-, and surface wave signals using the modified wavelet coefficients.\n",
    "\n",
    "(h) Make a multi-panel figure of the first seismic waveform alongside the separated P-, S-, and surface wave components to demonstrate the effectiveness of the pipeline.\n",
    "\n",
    "(i) Validate the code by applying the pipeline to the data of the second station. Make a multi-panel figure of the second seismic waveform alongside the separated P-, S-, and surface wave components to demonstrate the effectiveness of the pipeline.\n",
    "\n",
    "(j) Does your code successfully isolate the different wave components of the seismic signals?"
   ]
  }
 ],
 "metadata": {
  "kernelspec": {
   "display_name": "Python 3 (ipykernel)",
   "language": "python",
   "name": "python3"
  },
  "language_info": {
   "codemirror_mode": {
    "name": "ipython",
    "version": 3
   },
   "file_extension": ".py",
   "mimetype": "text/x-python",
   "name": "python",
   "nbconvert_exporter": "python",
   "pygments_lexer": "ipython3",
   "version": "3.9.18"
  }
 },
 "nbformat": 4,
 "nbformat_minor": 5
}
