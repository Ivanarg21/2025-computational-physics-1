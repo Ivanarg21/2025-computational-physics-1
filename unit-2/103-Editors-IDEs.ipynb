{
  "nbformat": 4,
  "nbformat_minor": 0,
  "metadata": {
    "colab": {
      "provenance": [],
      "authorship_tag": "ABX9TyMrj1zM75pcbbcvJaCrbqI6",
      "include_colab_link": true
    },
    "kernelspec": {
      "name": "python3",
      "display_name": "Python 3"
    },
    "language_info": {
      "name": "python"
    }
  },
  "cells": [
    {
      "cell_type": "markdown",
      "metadata": {
        "id": "view-in-github",
        "colab_type": "text"
      },
      "source": [
        "<a href=\"https://colab.research.google.com/github/wbandabarragan/computational-physics-1/blob/main/unit-2/103-Editors-IDEs.ipynb\" target=\"_parent\"><img src=\"https://colab.research.google.com/assets/colab-badge.svg\" alt=\"Open In Colab\"/></a>"
      ]
    },
    {
      "cell_type": "markdown",
      "source": [
        "# 103: Editors and Integrated Development Environments\n",
        "\n",
        "We can classify the tools for programming into 2 categories:\n",
        "\n",
        "- Command line editors:\n",
        "\n",
        "  - vi/vim\n",
        "\n",
        "  - nano\n",
        "\n",
        "  - emacs\n",
        "\n",
        "- Integrated Development Environments:\n",
        "\n",
        "  - Visual Studio Code\n",
        "\n",
        "  - Eclipse\n",
        "\n",
        "\n",
        "- Web-based Interactive Environments:\n",
        "  \n",
        "  - Google Colaboratory (Colab)\n",
        "  \n",
        "  - JupyterLab / Jupyter Notebook"
      ],
      "metadata": {
        "id": "4VzmYSjRFjV0"
      }
    },
    {
      "cell_type": "markdown",
      "source": [
        "## The VIM editor:\n",
        "\n",
        "VI/VIM editors are easy to use and available in Linux OS systems.\n",
        "\n",
        "To use VIM, you need to follow these steps in the CLI/terminal:\n",
        "\n",
        "### 1. Open a new file for editing:\n",
        "\n",
        "```bash\n",
        "vim file.txt\n",
        "```\n",
        "\n",
        "### 2. Press the \"i\" (for insert) letter on your keyboard to access edit mode\n",
        "\n",
        "```bash\n",
        "~                                                                  \n",
        "\"file.txt\" 2L, 28B\n",
        "```\n",
        "\n",
        "### 3. Add text:\n",
        "\n",
        "```bash\n",
        "First txt file\n",
        "CP1 2SEM2025\n",
        "```\n",
        "\n",
        "### 4. Leave edit mode by pressing ESC.\n",
        "\n",
        "### 5a. Save the file:\n",
        "\n",
        "```bash\n",
        ":wq, :x\n",
        "```\n",
        "\n",
        "### 5b: Just quit the file:\n",
        "\n",
        "```bash\n",
        ":q\n",
        "```\n",
        "\n",
        "### 5c: Force quit the file:\n",
        "\n",
        "```bash\n",
        ":q!\n",
        "```"
      ],
      "metadata": {
        "id": "9F3Z_lAdG13K"
      }
    },
    {
      "cell_type": "code",
      "execution_count": null,
      "metadata": {
        "id": "MztIbuPsDeWO"
      },
      "outputs": [],
      "source": []
    }
  ]
}